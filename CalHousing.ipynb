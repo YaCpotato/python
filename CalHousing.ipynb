{
  "nbformat": 4,
  "nbformat_minor": 0,
  "metadata": {
    "colab": {
      "name": "CalHousing.ipynb",
      "provenance": [],
      "authorship_tag": "ABX9TyNWVzHEEt39K8B7PidL8XYF",
      "include_colab_link": true
    },
    "kernelspec": {
      "name": "python3",
      "display_name": "Python 3"
    }
  },
  "cells": [
    {
      "cell_type": "markdown",
      "metadata": {
        "id": "view-in-github",
        "colab_type": "text"
      },
      "source": [
        "<a href=\"https://colab.research.google.com/github/YaCpotato/python/blob/master/CalHousing.ipynb\" target=\"_parent\"><img src=\"https://colab.research.google.com/assets/colab-badge.svg\" alt=\"Open In Colab\"/></a>"
      ]
    },
    {
      "cell_type": "code",
      "metadata": {
        "id": "oD-sMRYMoAnH",
        "colab_type": "code",
        "colab": {}
      },
      "source": [
        "import numpy as np\n",
        "import pandas as pd\n",
        "\n",
        "from sklearn.datasets import fetch_california_housing"
      ],
      "execution_count": 17,
      "outputs": []
    },
    {
      "cell_type": "code",
      "metadata": {
        "id": "Mvj6acyVoodn",
        "colab_type": "code",
        "colab": {}
      },
      "source": [
        "cal = fetch_california_housing()"
      ],
      "execution_count": 18,
      "outputs": []
    },
    {
      "cell_type": "code",
      "metadata": {
        "id": "60WKaXF5rw3P",
        "colab_type": "code",
        "colab": {}
      },
      "source": [
        "cal_df = pd.DataFrame(cal.data, columns=cal.feature_names)\n",
        "cal_df['MEDV'] = cal.target\n",
        "corr = cal_df.corr()"
      ],
      "execution_count": 19,
      "outputs": []
    }
  ]
}