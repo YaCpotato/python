{
  "nbformat": 4,
  "nbformat_minor": 0,
  "metadata": {
    "colab": {
      "name": "CatBoost.ipynb",
      "provenance": [],
      "include_colab_link": true
    },
    "kernelspec": {
      "name": "python3",
      "display_name": "Python 3"
    }
  },
  "cells": [
    {
      "cell_type": "markdown",
      "metadata": {
        "id": "view-in-github",
        "colab_type": "text"
      },
      "source": [
        "<a href=\"https://colab.research.google.com/github/YaCpotato/python/blob/master/CatBoost.ipynb\" target=\"_parent\"><img src=\"https://colab.research.google.com/assets/colab-badge.svg\" alt=\"Open In Colab\"/></a>"
      ]
    },
    {
      "cell_type": "code",
      "metadata": {
        "id": "t7RBatRAA4DD",
        "colab_type": "code",
        "colab": {}
      },
      "source": [
        "from google.colab import drive\n",
        "drive.mount('/content/drive')"
      ],
      "execution_count": 0,
      "outputs": []
    },
    {
      "cell_type": "code",
      "metadata": {
        "id": "PE6dPqMuA84H",
        "colab_type": "code",
        "colab": {}
      },
      "source": [
        "%cd drive/'My Drive'/'Colab Notebooks'/"
      ],
      "execution_count": 0,
      "outputs": []
    },
    {
      "cell_type": "markdown",
      "metadata": {
        "id": "6OpOKcTbBEtZ",
        "colab_type": "text"
      },
      "source": [
        "## データセットのロードとプレビュー"
      ]
    },
    {
      "cell_type": "code",
      "metadata": {
        "id": "lWFHT3AnA-1F",
        "colab_type": "code",
        "colab": {
          "base_uri": "https://localhost:8080/",
          "height": 204
        },
        "outputId": "aa506563-6988-46a3-f9a0-f5c14ebab8f3"
      },
      "source": [
        "import pandas as pd\n",
        "import io\n",
        "train = pd.read_csv('./poker-hand-training-true.csv', header=None)\n",
        "test = pd.read_csv('./poker-hand-testing.csv', header=None)\n",
        "train.head()\n",
        "test.head()"
      ],
      "execution_count": 3,
      "outputs": [
        {
          "output_type": "execute_result",
          "data": {
            "text/html": [
              "<div>\n",
              "<style scoped>\n",
              "    .dataframe tbody tr th:only-of-type {\n",
              "        vertical-align: middle;\n",
              "    }\n",
              "\n",
              "    .dataframe tbody tr th {\n",
              "        vertical-align: top;\n",
              "    }\n",
              "\n",
              "    .dataframe thead th {\n",
              "        text-align: right;\n",
              "    }\n",
              "</style>\n",
              "<table border=\"1\" class=\"dataframe\">\n",
              "  <thead>\n",
              "    <tr style=\"text-align: right;\">\n",
              "      <th></th>\n",
              "      <th>0</th>\n",
              "      <th>1</th>\n",
              "      <th>2</th>\n",
              "      <th>3</th>\n",
              "      <th>4</th>\n",
              "      <th>5</th>\n",
              "      <th>6</th>\n",
              "      <th>7</th>\n",
              "      <th>8</th>\n",
              "      <th>9</th>\n",
              "      <th>10</th>\n",
              "    </tr>\n",
              "  </thead>\n",
              "  <tbody>\n",
              "    <tr>\n",
              "      <th>0</th>\n",
              "      <td>1</td>\n",
              "      <td>1</td>\n",
              "      <td>1</td>\n",
              "      <td>13</td>\n",
              "      <td>2</td>\n",
              "      <td>4</td>\n",
              "      <td>2</td>\n",
              "      <td>3</td>\n",
              "      <td>1</td>\n",
              "      <td>12</td>\n",
              "      <td>0</td>\n",
              "    </tr>\n",
              "    <tr>\n",
              "      <th>1</th>\n",
              "      <td>3</td>\n",
              "      <td>12</td>\n",
              "      <td>3</td>\n",
              "      <td>2</td>\n",
              "      <td>3</td>\n",
              "      <td>11</td>\n",
              "      <td>4</td>\n",
              "      <td>5</td>\n",
              "      <td>2</td>\n",
              "      <td>5</td>\n",
              "      <td>1</td>\n",
              "    </tr>\n",
              "    <tr>\n",
              "      <th>2</th>\n",
              "      <td>1</td>\n",
              "      <td>9</td>\n",
              "      <td>4</td>\n",
              "      <td>6</td>\n",
              "      <td>1</td>\n",
              "      <td>4</td>\n",
              "      <td>3</td>\n",
              "      <td>2</td>\n",
              "      <td>3</td>\n",
              "      <td>9</td>\n",
              "      <td>1</td>\n",
              "    </tr>\n",
              "    <tr>\n",
              "      <th>3</th>\n",
              "      <td>1</td>\n",
              "      <td>4</td>\n",
              "      <td>3</td>\n",
              "      <td>13</td>\n",
              "      <td>2</td>\n",
              "      <td>13</td>\n",
              "      <td>2</td>\n",
              "      <td>1</td>\n",
              "      <td>3</td>\n",
              "      <td>6</td>\n",
              "      <td>1</td>\n",
              "    </tr>\n",
              "    <tr>\n",
              "      <th>4</th>\n",
              "      <td>3</td>\n",
              "      <td>10</td>\n",
              "      <td>2</td>\n",
              "      <td>7</td>\n",
              "      <td>1</td>\n",
              "      <td>2</td>\n",
              "      <td>2</td>\n",
              "      <td>11</td>\n",
              "      <td>4</td>\n",
              "      <td>9</td>\n",
              "      <td>0</td>\n",
              "    </tr>\n",
              "  </tbody>\n",
              "</table>\n",
              "</div>"
            ],
            "text/plain": [
              "   0   1   2   3   4   5   6   7   8   9   10\n",
              "0   1   1   1  13   2   4   2   3   1  12   0\n",
              "1   3  12   3   2   3  11   4   5   2   5   1\n",
              "2   1   9   4   6   1   4   3   2   3   9   1\n",
              "3   1   4   3  13   2  13   2   1   3   6   1\n",
              "4   3  10   2   7   1   2   2  11   4   9   0"
            ]
          },
          "metadata": {
            "tags": []
          },
          "execution_count": 3
        }
      ]
    },
    {
      "cell_type": "markdown",
      "metadata": {
        "id": "-2wpIwdwBGVx",
        "colab_type": "text"
      },
      "source": [
        "## データ整形：ラベルの抽出と学習、教師データの分割"
      ]
    },
    {
      "cell_type": "code",
      "metadata": {
        "id": "Zh0JijrDBGh7",
        "colab_type": "code",
        "colab": {
          "base_uri": "https://localhost:8080/",
          "height": 199
        },
        "outputId": "3f820502-6ca0-4c39-8af4-fd76e0f56eb6"
      },
      "source": [
        "from sklearn import preprocessing\n",
        "from keras.utils import np_utils\n",
        "from sklearn.model_selection import train_test_split\n",
        "from tensorflow.keras.utils import normalize\n",
        "\n",
        "train_Y = train[:][10]\n",
        "test_Y = test[:][10]\n",
        "\n",
        "X_train, X_test, = train_test_split(train,train_size=0.7)\n",
        "Y_train,Y_test = train_test_split(train_Y,train_size=0.7)\n",
        "print(X_train.shape,Y_train.shape,X_test.shape,Y_test.shape)\n",
        "\n",
        "X_train.drop(10,axis=1,inplace=True)\n",
        "X_test.drop(10,axis=1,inplace=True)\n",
        "print(X_train.shape,Y_train.shape,X_test.shape,Y_test.shape)"
      ],
      "execution_count": 4,
      "outputs": [
        {
          "output_type": "stream",
          "text": [
            "Using TensorFlow backend.\n"
          ],
          "name": "stderr"
        },
        {
          "output_type": "display_data",
          "data": {
            "text/html": [
              "<p style=\"color: red;\">\n",
              "The default version of TensorFlow in Colab will soon switch to TensorFlow 2.x.<br>\n",
              "We recommend you <a href=\"https://www.tensorflow.org/guide/migrate\" target=\"_blank\">upgrade</a> now \n",
              "or ensure your notebook will continue to use TensorFlow 1.x via the <code>%tensorflow_version 1.x</code> magic:\n",
              "<a href=\"https://colab.research.google.com/notebooks/tensorflow_version.ipynb\" target=\"_blank\">more info</a>.</p>\n"
            ],
            "text/plain": [
              "<IPython.core.display.HTML object>"
            ]
          },
          "metadata": {
            "tags": []
          }
        },
        {
          "output_type": "stream",
          "text": [
            "(17507, 11) (17507,) (7503, 11) (7503,)\n",
            "(17507, 10) (17507,) (7503, 10) (7503,)\n"
          ],
          "name": "stdout"
        },
        {
          "output_type": "stream",
          "text": [
            "/usr/local/lib/python3.6/dist-packages/pandas/core/frame.py:4117: SettingWithCopyWarning: \n",
            "A value is trying to be set on a copy of a slice from a DataFrame\n",
            "\n",
            "See the caveats in the documentation: http://pandas.pydata.org/pandas-docs/stable/user_guide/indexing.html#returning-a-view-versus-a-copy\n",
            "  errors=errors,\n"
          ],
          "name": "stderr"
        }
      ]
    },
    {
      "cell_type": "markdown",
      "metadata": {
        "id": "TzJswnqqBOAi",
        "colab_type": "text"
      },
      "source": [
        "## 学習データからValidation用にデータを取り出す"
      ]
    },
    {
      "cell_type": "code",
      "metadata": {
        "id": "ZR6XLKalBObZ",
        "colab_type": "code",
        "colab": {
          "base_uri": "https://localhost:8080/",
          "height": 34
        },
        "outputId": "cef1e319-c952-4543-e694-916c208b1bdd"
      },
      "source": [
        "import numpy as np\n",
        "X_train = X_train.astype('float32')\n",
        "X_test = X_test.astype('float32')\n",
        "Y_train = Y_train.astype('float32')\n",
        "Y_test = Y_test.astype('float32')\n",
        "\n",
        "X_train, X_val,= train_test_split(X_train,train_size=0.7)\n",
        "Y_train, Y_val = train_test_split(Y_train,train_size=0.7)\n",
        "print(X_train.shape,Y_train.shape,X_val.shape,Y_val.shape)"
      ],
      "execution_count": 5,
      "outputs": [
        {
          "output_type": "stream",
          "text": [
            "(12254, 10) (12254,) (5253, 10) (5253,)\n"
          ],
          "name": "stdout"
        }
      ]
    },
    {
      "cell_type": "markdown",
      "metadata": {
        "id": "9m43ngoaBaPk",
        "colab_type": "text"
      },
      "source": [
        "## CatBoost用のデータにする"
      ]
    },
    {
      "cell_type": "code",
      "metadata": {
        "id": "qIS_RvzICaoz",
        "colab_type": "code",
        "colab": {}
      },
      "source": [
        "!pip install catboost"
      ],
      "execution_count": 0,
      "outputs": []
    },
    {
      "cell_type": "code",
      "metadata": {
        "id": "Ddy8qAbOBhCA",
        "colab_type": "code",
        "colab": {}
      },
      "source": [
        "from catboost import CatBoost\n",
        "from catboost import Pool\n",
        "\n",
        "train_pool = Pool(X_train, label=Y_train)\n",
        "test_pool = Pool(X_test, label=Y_test)"
      ],
      "execution_count": 0,
      "outputs": []
    },
    {
      "cell_type": "markdown",
      "metadata": {
        "id": "5tuqKUDoBUS2",
        "colab_type": "text"
      },
      "source": [
        "## CatBoostモデルを定義"
      ]
    },
    {
      "cell_type": "code",
      "metadata": {
        "id": "C-wK_OSdBZm-",
        "colab_type": "code",
        "colab": {}
      },
      "source": [
        "params = {\n",
        "        # 学習ラウンド数\n",
        "        'num_boost_round': 100,\n",
        "    }\n",
        "# モデルを学習する\n",
        "cb = CatBoost(params)"
      ],
      "execution_count": 0,
      "outputs": []
    },
    {
      "cell_type": "code",
      "metadata": {
        "id": "noTZ1L-pCs2t",
        "colab_type": "code",
        "colab": {
          "base_uri": "https://localhost:8080/",
          "height": 1000
        },
        "outputId": "cdd0ff71-ff10-46c4-f3cd-d0bba3ca9338"
      },
      "source": [
        "%%time\n",
        "cb.fit(train_pool)"
      ],
      "execution_count": 13,
      "outputs": [
        {
          "output_type": "stream",
          "text": [
            "0:\tlearn: 0.7704014\ttotal: 3.77ms\tremaining: 373ms\n",
            "1:\tlearn: 0.7702417\ttotal: 6.6ms\tremaining: 324ms\n",
            "2:\tlearn: 0.7701424\ttotal: 9.38ms\tremaining: 303ms\n",
            "3:\tlearn: 0.7699972\ttotal: 12.4ms\tremaining: 297ms\n",
            "4:\tlearn: 0.7698813\ttotal: 15.3ms\tremaining: 290ms\n",
            "5:\tlearn: 0.7698481\ttotal: 17.7ms\tremaining: 277ms\n",
            "6:\tlearn: 0.7697227\ttotal: 20.8ms\tremaining: 276ms\n",
            "7:\tlearn: 0.7695961\ttotal: 23.6ms\tremaining: 271ms\n",
            "8:\tlearn: 0.7695154\ttotal: 26.4ms\tremaining: 266ms\n",
            "9:\tlearn: 0.7693747\ttotal: 29.5ms\tremaining: 265ms\n",
            "10:\tlearn: 0.7692493\ttotal: 32.2ms\tremaining: 260ms\n",
            "11:\tlearn: 0.7690949\ttotal: 35ms\tremaining: 257ms\n",
            "12:\tlearn: 0.7689399\ttotal: 38ms\tremaining: 255ms\n",
            "13:\tlearn: 0.7688517\ttotal: 41ms\tremaining: 252ms\n",
            "14:\tlearn: 0.7687316\ttotal: 44.3ms\tremaining: 251ms\n",
            "15:\tlearn: 0.7686055\ttotal: 47.4ms\tremaining: 249ms\n",
            "16:\tlearn: 0.7684813\ttotal: 50.2ms\tremaining: 245ms\n",
            "17:\tlearn: 0.7683381\ttotal: 53.1ms\tremaining: 242ms\n",
            "18:\tlearn: 0.7682356\ttotal: 55.9ms\tremaining: 238ms\n",
            "19:\tlearn: 0.7681411\ttotal: 59ms\tremaining: 236ms\n",
            "20:\tlearn: 0.7680019\ttotal: 61.9ms\tremaining: 233ms\n",
            "21:\tlearn: 0.7679110\ttotal: 64.9ms\tremaining: 230ms\n",
            "22:\tlearn: 0.7677568\ttotal: 67.8ms\tremaining: 227ms\n",
            "23:\tlearn: 0.7676146\ttotal: 70.6ms\tremaining: 224ms\n",
            "24:\tlearn: 0.7675360\ttotal: 73.6ms\tremaining: 221ms\n",
            "25:\tlearn: 0.7674204\ttotal: 76.6ms\tremaining: 218ms\n",
            "26:\tlearn: 0.7672941\ttotal: 79.4ms\tremaining: 215ms\n",
            "27:\tlearn: 0.7671729\ttotal: 82.2ms\tremaining: 211ms\n",
            "28:\tlearn: 0.7671032\ttotal: 85.1ms\tremaining: 208ms\n",
            "29:\tlearn: 0.7670121\ttotal: 88.2ms\tremaining: 206ms\n",
            "30:\tlearn: 0.7668870\ttotal: 91.1ms\tremaining: 203ms\n",
            "31:\tlearn: 0.7667818\ttotal: 93.9ms\tremaining: 199ms\n",
            "32:\tlearn: 0.7666729\ttotal: 96.7ms\tremaining: 196ms\n",
            "33:\tlearn: 0.7665622\ttotal: 99.6ms\tremaining: 193ms\n",
            "34:\tlearn: 0.7664839\ttotal: 103ms\tremaining: 191ms\n",
            "35:\tlearn: 0.7663756\ttotal: 106ms\tremaining: 188ms\n",
            "36:\tlearn: 0.7662650\ttotal: 108ms\tremaining: 185ms\n",
            "37:\tlearn: 0.7661399\ttotal: 111ms\tremaining: 181ms\n",
            "38:\tlearn: 0.7660066\ttotal: 114ms\tremaining: 178ms\n",
            "39:\tlearn: 0.7658198\ttotal: 117ms\tremaining: 175ms\n",
            "40:\tlearn: 0.7657196\ttotal: 120ms\tremaining: 172ms\n",
            "41:\tlearn: 0.7656136\ttotal: 122ms\tremaining: 169ms\n",
            "42:\tlearn: 0.7654956\ttotal: 125ms\tremaining: 166ms\n",
            "43:\tlearn: 0.7653863\ttotal: 128ms\tremaining: 163ms\n",
            "44:\tlearn: 0.7653063\ttotal: 131ms\tremaining: 160ms\n",
            "45:\tlearn: 0.7651961\ttotal: 134ms\tremaining: 157ms\n",
            "46:\tlearn: 0.7650818\ttotal: 137ms\tremaining: 154ms\n",
            "47:\tlearn: 0.7649835\ttotal: 140ms\tremaining: 151ms\n",
            "48:\tlearn: 0.7648400\ttotal: 143ms\tremaining: 149ms\n",
            "49:\tlearn: 0.7647390\ttotal: 146ms\tremaining: 146ms\n",
            "50:\tlearn: 0.7646274\ttotal: 148ms\tremaining: 143ms\n",
            "51:\tlearn: 0.7645169\ttotal: 151ms\tremaining: 140ms\n",
            "52:\tlearn: 0.7644357\ttotal: 154ms\tremaining: 137ms\n",
            "53:\tlearn: 0.7642841\ttotal: 157ms\tremaining: 134ms\n",
            "54:\tlearn: 0.7642323\ttotal: 160ms\tremaining: 131ms\n",
            "55:\tlearn: 0.7641176\ttotal: 163ms\tremaining: 128ms\n",
            "56:\tlearn: 0.7640268\ttotal: 165ms\tremaining: 125ms\n",
            "57:\tlearn: 0.7638936\ttotal: 168ms\tremaining: 122ms\n",
            "58:\tlearn: 0.7638047\ttotal: 171ms\tremaining: 119ms\n",
            "59:\tlearn: 0.7636978\ttotal: 174ms\tremaining: 116ms\n",
            "60:\tlearn: 0.7635511\ttotal: 177ms\tremaining: 113ms\n",
            "61:\tlearn: 0.7634325\ttotal: 182ms\tremaining: 111ms\n",
            "62:\tlearn: 0.7633533\ttotal: 186ms\tremaining: 109ms\n",
            "63:\tlearn: 0.7632527\ttotal: 189ms\tremaining: 107ms\n",
            "64:\tlearn: 0.7631297\ttotal: 193ms\tremaining: 104ms\n",
            "65:\tlearn: 0.7630188\ttotal: 197ms\tremaining: 102ms\n",
            "66:\tlearn: 0.7629122\ttotal: 201ms\tremaining: 98.8ms\n",
            "67:\tlearn: 0.7628644\ttotal: 204ms\tremaining: 95.8ms\n",
            "68:\tlearn: 0.7627800\ttotal: 206ms\tremaining: 92.8ms\n",
            "69:\tlearn: 0.7626876\ttotal: 209ms\tremaining: 89.8ms\n",
            "70:\tlearn: 0.7625893\ttotal: 212ms\tremaining: 86.7ms\n",
            "71:\tlearn: 0.7625215\ttotal: 215ms\tremaining: 83.7ms\n",
            "72:\tlearn: 0.7623998\ttotal: 218ms\tremaining: 80.7ms\n",
            "73:\tlearn: 0.7622686\ttotal: 221ms\tremaining: 77.6ms\n",
            "74:\tlearn: 0.7621683\ttotal: 224ms\tremaining: 74.6ms\n",
            "75:\tlearn: 0.7620383\ttotal: 227ms\tremaining: 71.5ms\n",
            "76:\tlearn: 0.7619252\ttotal: 229ms\tremaining: 68.5ms\n",
            "77:\tlearn: 0.7618019\ttotal: 233ms\tremaining: 65.6ms\n",
            "78:\tlearn: 0.7616854\ttotal: 237ms\tremaining: 62.9ms\n",
            "79:\tlearn: 0.7615943\ttotal: 240ms\tremaining: 59.9ms\n",
            "80:\tlearn: 0.7614672\ttotal: 243ms\tremaining: 56.9ms\n",
            "81:\tlearn: 0.7613692\ttotal: 246ms\tremaining: 54ms\n",
            "82:\tlearn: 0.7612732\ttotal: 249ms\tremaining: 50.9ms\n",
            "83:\tlearn: 0.7611523\ttotal: 252ms\tremaining: 47.9ms\n",
            "84:\tlearn: 0.7610555\ttotal: 255ms\tremaining: 44.9ms\n",
            "85:\tlearn: 0.7609561\ttotal: 258ms\tremaining: 41.9ms\n",
            "86:\tlearn: 0.7608388\ttotal: 260ms\tremaining: 38.9ms\n",
            "87:\tlearn: 0.7607380\ttotal: 264ms\tremaining: 35.9ms\n",
            "88:\tlearn: 0.7606706\ttotal: 267ms\tremaining: 33ms\n",
            "89:\tlearn: 0.7606058\ttotal: 270ms\tremaining: 30ms\n",
            "90:\tlearn: 0.7604929\ttotal: 276ms\tremaining: 27.3ms\n",
            "91:\tlearn: 0.7603843\ttotal: 279ms\tremaining: 24.3ms\n",
            "92:\tlearn: 0.7603281\ttotal: 282ms\tremaining: 21.2ms\n",
            "93:\tlearn: 0.7602429\ttotal: 285ms\tremaining: 18.2ms\n",
            "94:\tlearn: 0.7601630\ttotal: 289ms\tremaining: 15.2ms\n",
            "95:\tlearn: 0.7600375\ttotal: 292ms\tremaining: 12.1ms\n",
            "96:\tlearn: 0.7599039\ttotal: 295ms\tremaining: 9.11ms\n",
            "97:\tlearn: 0.7598102\ttotal: 298ms\tremaining: 6.08ms\n",
            "98:\tlearn: 0.7596646\ttotal: 301ms\tremaining: 3.04ms\n",
            "99:\tlearn: 0.7595628\ttotal: 304ms\tremaining: 0us\n",
            "CPU times: user 513 ms, sys: 95.8 ms, total: 609 ms\n",
            "Wall time: 420 ms\n"
          ],
          "name": "stdout"
        },
        {
          "output_type": "execute_result",
          "data": {
            "text/plain": [
              "<catboost.core.CatBoost at 0x7fd72c498630>"
            ]
          },
          "metadata": {
            "tags": []
          },
          "execution_count": 13
        }
      ]
    },
    {
      "cell_type": "markdown",
      "metadata": {
        "id": "Ndhx_qNDB4_w",
        "colab_type": "text"
      },
      "source": [
        "評価"
      ]
    },
    {
      "cell_type": "code",
      "metadata": {
        "id": "wcy9WJxCB5Iz",
        "colab_type": "code",
        "colab": {
          "base_uri": "https://localhost:8080/",
          "height": 530
        },
        "outputId": "0c1800f9-aee6-40f1-e538-c2ccc8a557e7"
      },
      "source": [
        "# テストデータを予測する\n",
        "Y_pred = cb.predict(test_pool, prediction_type='Class')\n",
        "\n",
        "# 精度 (Accuracy) を計算する\n",
        "from sklearn.metrics import confusion_matrix,classification_report\n",
        "print (confusion_matrix(Y_test, Y_pred))\n",
        "print (classification_report(Y_test, Y_pred))"
      ],
      "execution_count": 17,
      "outputs": [
        {
          "output_type": "stream",
          "text": [
            "[[   0 3702    0    0    0    0    0    0    0    0]\n",
            " [   0 3208    0    0    0    0    0    0    0    0]\n",
            " [   0  389    0    0    0    0    0    0    0    0]\n",
            " [   0  135    0    0    0    0    0    0    0    0]\n",
            " [   0   26    0    0    0    0    0    0    0    0]\n",
            " [   0   20    0    0    0    0    0    0    0    0]\n",
            " [   0   15    0    0    0    0    0    0    0    0]\n",
            " [   0    2    0    0    0    0    0    0    0    0]\n",
            " [   0    4    0    0    0    0    0    0    0    0]\n",
            " [   0    2    0    0    0    0    0    0    0    0]]\n",
            "              precision    recall  f1-score   support\n",
            "\n",
            "         0.0       0.00      0.00      0.00      3702\n",
            "         1.0       0.43      1.00      0.60      3208\n",
            "         2.0       0.00      0.00      0.00       389\n",
            "         3.0       0.00      0.00      0.00       135\n",
            "         4.0       0.00      0.00      0.00        26\n",
            "         5.0       0.00      0.00      0.00        20\n",
            "         6.0       0.00      0.00      0.00        15\n",
            "         7.0       0.00      0.00      0.00         2\n",
            "         8.0       0.00      0.00      0.00         4\n",
            "         9.0       0.00      0.00      0.00         2\n",
            "\n",
            "    accuracy                           0.43      7503\n",
            "   macro avg       0.04      0.10      0.06      7503\n",
            "weighted avg       0.18      0.43      0.26      7503\n",
            "\n"
          ],
          "name": "stdout"
        },
        {
          "output_type": "stream",
          "text": [
            "/usr/local/lib/python3.6/dist-packages/sklearn/metrics/classification.py:1437: UndefinedMetricWarning: Precision and F-score are ill-defined and being set to 0.0 in labels with no predicted samples.\n",
            "  'precision', 'predicted', average, warn_for)\n"
          ],
          "name": "stderr"
        }
      ]
    }
  ]
}