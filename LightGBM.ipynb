{
  "nbformat": 4,
  "nbformat_minor": 0,
  "metadata": {
    "colab": {
      "name": "LightGBM.ipynb",
      "provenance": [],
      "collapsed_sections": [],
      "include_colab_link": true
    },
    "kernelspec": {
      "name": "python3",
      "display_name": "Python 3"
    }
  },
  "cells": [
    {
      "cell_type": "markdown",
      "metadata": {
        "id": "view-in-github",
        "colab_type": "text"
      },
      "source": [
        "<a href=\"https://colab.research.google.com/github/YaCpotato/python/blob/master/LightGBM.ipynb\" target=\"_parent\"><img src=\"https://colab.research.google.com/assets/colab-badge.svg\" alt=\"Open In Colab\"/></a>"
      ]
    },
    {
      "cell_type": "markdown",
      "metadata": {
        "id": "yVn3T7m0-ouX",
        "colab_type": "text"
      },
      "source": [
        "## ドライブのマウントとデータセットを保存してあるディレクトリへ移動"
      ]
    },
    {
      "cell_type": "code",
      "metadata": {
        "id": "tn8M0VUC-foJ",
        "colab_type": "code",
        "colab": {}
      },
      "source": [
        "from google.colab import drive\n",
        "drive.mount('/content/drive')"
      ],
      "execution_count": 0,
      "outputs": []
    },
    {
      "cell_type": "code",
      "metadata": {
        "id": "AaYnyoxw-lgP",
        "colab_type": "code",
        "colab": {}
      },
      "source": [
        "%cd drive/'My Drive'/'Colab Notebooks'/"
      ],
      "execution_count": 0,
      "outputs": []
    },
    {
      "cell_type": "markdown",
      "metadata": {
        "id": "1W1gJDad-zTU",
        "colab_type": "text"
      },
      "source": [
        "## データセットのロードとプレビュー"
      ]
    },
    {
      "cell_type": "code",
      "metadata": {
        "id": "XfZfJFFz-zbm",
        "colab_type": "code",
        "colab": {
          "base_uri": "https://localhost:8080/",
          "height": 204
        },
        "outputId": "59e77f7e-7142-416c-84e7-bf5f45fd77b2"
      },
      "source": [
        "import pandas as pd\n",
        "import io\n",
        "train = pd.read_csv('./poker-hand-training-true.csv', header=None)\n",
        "test = pd.read_csv('./poker-hand-testing.csv', header=None)\n",
        "train.head()\n",
        "test.head()"
      ],
      "execution_count": 22,
      "outputs": [
        {
          "output_type": "execute_result",
          "data": {
            "text/html": [
              "<div>\n",
              "<style scoped>\n",
              "    .dataframe tbody tr th:only-of-type {\n",
              "        vertical-align: middle;\n",
              "    }\n",
              "\n",
              "    .dataframe tbody tr th {\n",
              "        vertical-align: top;\n",
              "    }\n",
              "\n",
              "    .dataframe thead th {\n",
              "        text-align: right;\n",
              "    }\n",
              "</style>\n",
              "<table border=\"1\" class=\"dataframe\">\n",
              "  <thead>\n",
              "    <tr style=\"text-align: right;\">\n",
              "      <th></th>\n",
              "      <th>0</th>\n",
              "      <th>1</th>\n",
              "      <th>2</th>\n",
              "      <th>3</th>\n",
              "      <th>4</th>\n",
              "      <th>5</th>\n",
              "      <th>6</th>\n",
              "      <th>7</th>\n",
              "      <th>8</th>\n",
              "      <th>9</th>\n",
              "      <th>10</th>\n",
              "    </tr>\n",
              "  </thead>\n",
              "  <tbody>\n",
              "    <tr>\n",
              "      <th>0</th>\n",
              "      <td>1</td>\n",
              "      <td>1</td>\n",
              "      <td>1</td>\n",
              "      <td>13</td>\n",
              "      <td>2</td>\n",
              "      <td>4</td>\n",
              "      <td>2</td>\n",
              "      <td>3</td>\n",
              "      <td>1</td>\n",
              "      <td>12</td>\n",
              "      <td>0</td>\n",
              "    </tr>\n",
              "    <tr>\n",
              "      <th>1</th>\n",
              "      <td>3</td>\n",
              "      <td>12</td>\n",
              "      <td>3</td>\n",
              "      <td>2</td>\n",
              "      <td>3</td>\n",
              "      <td>11</td>\n",
              "      <td>4</td>\n",
              "      <td>5</td>\n",
              "      <td>2</td>\n",
              "      <td>5</td>\n",
              "      <td>1</td>\n",
              "    </tr>\n",
              "    <tr>\n",
              "      <th>2</th>\n",
              "      <td>1</td>\n",
              "      <td>9</td>\n",
              "      <td>4</td>\n",
              "      <td>6</td>\n",
              "      <td>1</td>\n",
              "      <td>4</td>\n",
              "      <td>3</td>\n",
              "      <td>2</td>\n",
              "      <td>3</td>\n",
              "      <td>9</td>\n",
              "      <td>1</td>\n",
              "    </tr>\n",
              "    <tr>\n",
              "      <th>3</th>\n",
              "      <td>1</td>\n",
              "      <td>4</td>\n",
              "      <td>3</td>\n",
              "      <td>13</td>\n",
              "      <td>2</td>\n",
              "      <td>13</td>\n",
              "      <td>2</td>\n",
              "      <td>1</td>\n",
              "      <td>3</td>\n",
              "      <td>6</td>\n",
              "      <td>1</td>\n",
              "    </tr>\n",
              "    <tr>\n",
              "      <th>4</th>\n",
              "      <td>3</td>\n",
              "      <td>10</td>\n",
              "      <td>2</td>\n",
              "      <td>7</td>\n",
              "      <td>1</td>\n",
              "      <td>2</td>\n",
              "      <td>2</td>\n",
              "      <td>11</td>\n",
              "      <td>4</td>\n",
              "      <td>9</td>\n",
              "      <td>0</td>\n",
              "    </tr>\n",
              "  </tbody>\n",
              "</table>\n",
              "</div>"
            ],
            "text/plain": [
              "   0   1   2   3   4   5   6   7   8   9   10\n",
              "0   1   1   1  13   2   4   2   3   1  12   0\n",
              "1   3  12   3   2   3  11   4   5   2   5   1\n",
              "2   1   9   4   6   1   4   3   2   3   9   1\n",
              "3   1   4   3  13   2  13   2   1   3   6   1\n",
              "4   3  10   2   7   1   2   2  11   4   9   0"
            ]
          },
          "metadata": {
            "tags": []
          },
          "execution_count": 22
        }
      ]
    },
    {
      "cell_type": "markdown",
      "metadata": {
        "id": "Vo8qvlcx-7_2",
        "colab_type": "text"
      },
      "source": [
        "## データ整形：ラベルの抽出と学習、教師データの分割"
      ]
    },
    {
      "cell_type": "code",
      "metadata": {
        "id": "XKAbWnEM-8Jy",
        "colab_type": "code",
        "colab": {
          "base_uri": "https://localhost:8080/",
          "height": 136
        },
        "outputId": "01b812b2-36b5-4de1-8af2-744343c59c5a"
      },
      "source": [
        "from sklearn import preprocessing\n",
        "from keras.utils import np_utils\n",
        "from sklearn.model_selection import train_test_split\n",
        "from tensorflow.keras.utils import normalize\n",
        "\n",
        "train_Y = train[:][10]\n",
        "test_Y = test[:][10]\n",
        "\n",
        "X_train, X_test, = train_test_split(train,train_size=0.7)\n",
        "Y_train,Y_test = train_test_split(train_Y,train_size=0.7)\n",
        "print(X_train.shape,Y_train.shape,X_test.shape,Y_test.shape)\n",
        "\n",
        "X_train.drop(10,axis=1,inplace=True)\n",
        "X_test.drop(10,axis=1,inplace=True)\n",
        "print(X_train.shape,Y_train.shape,X_test.shape,Y_test.shape)"
      ],
      "execution_count": 23,
      "outputs": [
        {
          "output_type": "stream",
          "text": [
            "(17507, 11) (17507,) (7503, 11) (7503,)\n",
            "(17507, 10) (17507,) (7503, 10) (7503,)\n"
          ],
          "name": "stdout"
        },
        {
          "output_type": "stream",
          "text": [
            "/usr/local/lib/python3.6/dist-packages/pandas/core/frame.py:4117: SettingWithCopyWarning: \n",
            "A value is trying to be set on a copy of a slice from a DataFrame\n",
            "\n",
            "See the caveats in the documentation: http://pandas.pydata.org/pandas-docs/stable/user_guide/indexing.html#returning-a-view-versus-a-copy\n",
            "  errors=errors,\n"
          ],
          "name": "stderr"
        }
      ]
    },
    {
      "cell_type": "markdown",
      "metadata": {
        "id": "7Pe5IstK_JpW",
        "colab_type": "text"
      },
      "source": [
        "## 学習データからValidation用にデータを取り出す"
      ]
    },
    {
      "cell_type": "code",
      "metadata": {
        "id": "9yn0ohIN_Jwm",
        "colab_type": "code",
        "colab": {
          "base_uri": "https://localhost:8080/",
          "height": 34
        },
        "outputId": "6a5f465d-7752-407e-cc6b-2b6289c2a416"
      },
      "source": [
        "import numpy as np\n",
        "X_train = X_train.astype('float32')\n",
        "X_test = X_test.astype('float32')\n",
        "Y_train = Y_train.astype('float32')\n",
        "Y_test = Y_test.astype('float32')\n",
        "\n",
        "X_train, X_val,= train_test_split(X_train,train_size=0.7)\n",
        "Y_train, Y_val = train_test_split(Y_train,train_size=0.7)\n",
        "print(X_train.shape,Y_train.shape,X_val.shape,Y_val.shape)"
      ],
      "execution_count": 24,
      "outputs": [
        {
          "output_type": "stream",
          "text": [
            "(12254, 10) (12254,) (5253, 10) (5253,)\n"
          ],
          "name": "stdout"
        }
      ]
    },
    {
      "cell_type": "markdown",
      "metadata": {
        "id": "TWa9A6kH_coB",
        "colab_type": "text"
      },
      "source": [
        "## LightGBMモデルを定義"
      ]
    },
    {
      "cell_type": "code",
      "metadata": {
        "id": "pYLITgAh_cum",
        "colab_type": "code",
        "colab": {}
      },
      "source": [
        "import lightgbm as lgb\n",
        "from sklearn.model_selection import GridSearchCV\n",
        "\n",
        "params = {\n",
        "    'n_estimators': 10000,  # 大きめにとっておく\n",
        "}\n",
        "\n",
        "lgb = lgb.LGBMClassifier(**params)\n"
      ],
      "execution_count": 0,
      "outputs": []
    },
    {
      "cell_type": "markdown",
      "metadata": {
        "id": "zA-FiV14_sEd",
        "colab_type": "text"
      },
      "source": [
        "## 学習"
      ]
    },
    {
      "cell_type": "code",
      "metadata": {
        "id": "RiYAS9Lr9OJw",
        "colab_type": "code",
        "colab": {
          "base_uri": "https://localhost:8080/",
          "height": 1000
        },
        "outputId": "4e5ab056-825e-43a0-b60c-27810a0d563d"
      },
      "source": [
        "%%time\n",
        "lgb.fit(X_train, Y_train,\n",
        "        early_stopping_rounds=100,\n",
        "        eval_set=[[X_val, Y_val]],\n",
        "        verbose=1)"
      ],
      "execution_count": 26,
      "outputs": [
        {
          "output_type": "stream",
          "text": [
            "[1]\tvalid_0's multi_logloss: 1.01505\n",
            "Training until validation scores don't improve for 100 rounds.\n",
            "[2]\tvalid_0's multi_logloss: 1.01095\n",
            "[3]\tvalid_0's multi_logloss: 1.00914\n",
            "[4]\tvalid_0's multi_logloss: 1.00775\n",
            "[5]\tvalid_0's multi_logloss: 1.00714\n",
            "[6]\tvalid_0's multi_logloss: 1.00639\n",
            "[7]\tvalid_0's multi_logloss: 1.00601\n",
            "[8]\tvalid_0's multi_logloss: 1.00553\n",
            "[9]\tvalid_0's multi_logloss: 1.00513\n",
            "[10]\tvalid_0's multi_logloss: 1.00473\n",
            "[11]\tvalid_0's multi_logloss: 1.00464\n",
            "[12]\tvalid_0's multi_logloss: 1.00443\n",
            "[13]\tvalid_0's multi_logloss: 1.00426\n",
            "[14]\tvalid_0's multi_logloss: 1.00429\n",
            "[15]\tvalid_0's multi_logloss: 1.00413\n",
            "[16]\tvalid_0's multi_logloss: 1.00398\n",
            "[17]\tvalid_0's multi_logloss: 1.00385\n",
            "[18]\tvalid_0's multi_logloss: 1.00374\n",
            "[19]\tvalid_0's multi_logloss: 1.00356\n",
            "[20]\tvalid_0's multi_logloss: 1.00368\n",
            "[21]\tvalid_0's multi_logloss: 1.00377\n",
            "[22]\tvalid_0's multi_logloss: 1.00385\n",
            "[23]\tvalid_0's multi_logloss: 1.00405\n",
            "[24]\tvalid_0's multi_logloss: 1.00422\n",
            "[25]\tvalid_0's multi_logloss: 1.00427\n",
            "[26]\tvalid_0's multi_logloss: 1.0046\n",
            "[27]\tvalid_0's multi_logloss: 1.00462\n",
            "[28]\tvalid_0's multi_logloss: 1.00485\n",
            "[29]\tvalid_0's multi_logloss: 1.00482\n",
            "[30]\tvalid_0's multi_logloss: 1.00511\n",
            "[31]\tvalid_0's multi_logloss: 1.00529\n",
            "[32]\tvalid_0's multi_logloss: 1.00541\n",
            "[33]\tvalid_0's multi_logloss: 1.00567\n",
            "[34]\tvalid_0's multi_logloss: 1.00578\n",
            "[35]\tvalid_0's multi_logloss: 1.00613\n",
            "[36]\tvalid_0's multi_logloss: 1.00645\n",
            "[37]\tvalid_0's multi_logloss: 1.00688\n",
            "[38]\tvalid_0's multi_logloss: 1.00718\n",
            "[39]\tvalid_0's multi_logloss: 1.00754\n",
            "[40]\tvalid_0's multi_logloss: 1.00778\n",
            "[41]\tvalid_0's multi_logloss: 1.00805\n",
            "[42]\tvalid_0's multi_logloss: 1.00824\n",
            "[43]\tvalid_0's multi_logloss: 1.00847\n",
            "[44]\tvalid_0's multi_logloss: 1.00872\n",
            "[45]\tvalid_0's multi_logloss: 1.00899\n",
            "[46]\tvalid_0's multi_logloss: 1.00942\n",
            "[47]\tvalid_0's multi_logloss: 1.0098\n",
            "[48]\tvalid_0's multi_logloss: 1.01015\n",
            "[49]\tvalid_0's multi_logloss: 1.01038\n",
            "[50]\tvalid_0's multi_logloss: 1.01053\n",
            "[51]\tvalid_0's multi_logloss: 1.01065\n",
            "[52]\tvalid_0's multi_logloss: 1.01092\n",
            "[53]\tvalid_0's multi_logloss: 1.01117\n",
            "[54]\tvalid_0's multi_logloss: 1.01161\n",
            "[55]\tvalid_0's multi_logloss: 1.01189\n",
            "[56]\tvalid_0's multi_logloss: 1.01221\n",
            "[57]\tvalid_0's multi_logloss: 1.01256\n",
            "[58]\tvalid_0's multi_logloss: 1.01289\n",
            "[59]\tvalid_0's multi_logloss: 1.01328\n",
            "[60]\tvalid_0's multi_logloss: 1.01398\n",
            "[61]\tvalid_0's multi_logloss: 1.01425\n",
            "[62]\tvalid_0's multi_logloss: 1.01453\n",
            "[63]\tvalid_0's multi_logloss: 1.01488\n",
            "[64]\tvalid_0's multi_logloss: 1.01535\n",
            "[65]\tvalid_0's multi_logloss: 1.01589\n",
            "[66]\tvalid_0's multi_logloss: 1.0162\n",
            "[67]\tvalid_0's multi_logloss: 1.01649\n",
            "[68]\tvalid_0's multi_logloss: 1.01678\n",
            "[69]\tvalid_0's multi_logloss: 1.01711\n",
            "[70]\tvalid_0's multi_logloss: 1.01756\n",
            "[71]\tvalid_0's multi_logloss: 1.01812\n",
            "[72]\tvalid_0's multi_logloss: 1.01832\n",
            "[73]\tvalid_0's multi_logloss: 1.01889\n",
            "[74]\tvalid_0's multi_logloss: 1.01914\n",
            "[75]\tvalid_0's multi_logloss: 1.01943\n",
            "[76]\tvalid_0's multi_logloss: 1.01975\n",
            "[77]\tvalid_0's multi_logloss: 1.02024\n",
            "[78]\tvalid_0's multi_logloss: 1.02062\n",
            "[79]\tvalid_0's multi_logloss: 1.02091\n",
            "[80]\tvalid_0's multi_logloss: 1.02143\n",
            "[81]\tvalid_0's multi_logloss: 1.02186\n",
            "[82]\tvalid_0's multi_logloss: 1.02212\n",
            "[83]\tvalid_0's multi_logloss: 1.02248\n",
            "[84]\tvalid_0's multi_logloss: 1.02283\n",
            "[85]\tvalid_0's multi_logloss: 1.02321\n",
            "[86]\tvalid_0's multi_logloss: 1.02358\n",
            "[87]\tvalid_0's multi_logloss: 1.02401\n",
            "[88]\tvalid_0's multi_logloss: 1.02441\n",
            "[89]\tvalid_0's multi_logloss: 1.02482\n",
            "[90]\tvalid_0's multi_logloss: 1.02516\n",
            "[91]\tvalid_0's multi_logloss: 1.02545\n",
            "[92]\tvalid_0's multi_logloss: 1.02589\n",
            "[93]\tvalid_0's multi_logloss: 1.02631\n",
            "[94]\tvalid_0's multi_logloss: 1.02653\n",
            "[95]\tvalid_0's multi_logloss: 1.02691\n",
            "[96]\tvalid_0's multi_logloss: 1.02713\n",
            "[97]\tvalid_0's multi_logloss: 1.02737\n",
            "[98]\tvalid_0's multi_logloss: 1.02787\n",
            "[99]\tvalid_0's multi_logloss: 1.0282\n",
            "[100]\tvalid_0's multi_logloss: 1.02846\n",
            "[101]\tvalid_0's multi_logloss: 1.02898\n",
            "[102]\tvalid_0's multi_logloss: 1.02935\n",
            "[103]\tvalid_0's multi_logloss: 1.02976\n",
            "[104]\tvalid_0's multi_logloss: 1.03022\n",
            "[105]\tvalid_0's multi_logloss: 1.03049\n",
            "[106]\tvalid_0's multi_logloss: 1.03108\n",
            "[107]\tvalid_0's multi_logloss: 1.03142\n",
            "[108]\tvalid_0's multi_logloss: 1.03178\n",
            "[109]\tvalid_0's multi_logloss: 1.0322\n",
            "[110]\tvalid_0's multi_logloss: 1.03268\n",
            "[111]\tvalid_0's multi_logloss: 1.03308\n",
            "[112]\tvalid_0's multi_logloss: 1.03337\n",
            "[113]\tvalid_0's multi_logloss: 1.03382\n",
            "[114]\tvalid_0's multi_logloss: 1.03417\n",
            "[115]\tvalid_0's multi_logloss: 1.03466\n",
            "[116]\tvalid_0's multi_logloss: 1.03497\n",
            "[117]\tvalid_0's multi_logloss: 1.03542\n",
            "[118]\tvalid_0's multi_logloss: 1.03581\n",
            "[119]\tvalid_0's multi_logloss: 1.03631\n",
            "Early stopping, best iteration is:\n",
            "[19]\tvalid_0's multi_logloss: 1.00356\n",
            "CPU times: user 4.59 s, sys: 188 ms, total: 4.78 s\n",
            "Wall time: 2.51 s\n"
          ],
          "name": "stdout"
        },
        {
          "output_type": "execute_result",
          "data": {
            "text/plain": [
              "LGBMClassifier(boosting_type='gbdt', class_weight=None, colsample_bytree=1.0,\n",
              "               importance_type='split', learning_rate=0.1, max_depth=-1,\n",
              "               min_child_samples=20, min_child_weight=0.001, min_split_gain=0.0,\n",
              "               n_estimators=10000, n_jobs=-1, num_leaves=31, objective=None,\n",
              "               random_state=None, reg_alpha=0.0, reg_lambda=0.0, silent=True,\n",
              "               subsample=1.0, subsample_for_bin=200000, subsample_freq=0)"
            ]
          },
          "metadata": {
            "tags": []
          },
          "execution_count": 26
        }
      ]
    },
    {
      "cell_type": "markdown",
      "metadata": {
        "id": "KhhZ-aAz_0xY",
        "colab_type": "text"
      },
      "source": [
        "## 評価"
      ]
    },
    {
      "cell_type": "code",
      "metadata": {
        "id": "0kN5mw5g_07h",
        "colab_type": "code",
        "colab": {
          "base_uri": "https://localhost:8080/",
          "height": 564
        },
        "outputId": "de0635e5-027e-497a-a78d-976ed88f779c"
      },
      "source": [
        "# テストデータを予測する\n",
        "Y_pred = lgb.predict_proba(X_test)\n",
        "Y_pred_max = np.argmax(Y_pred, axis=1)  # 最尤と判断したクラスの値にする\n",
        "\n",
        "# 精度 (Accuracy) を計算する\n",
        "from sklearn.metrics import confusion_matrix,classification_report\n",
        "print (confusion_matrix(Y_test, Y_pred_max))\n",
        "print (classification_report(Y_test, Y_pred_max))\n"
      ],
      "execution_count": 27,
      "outputs": [
        {
          "output_type": "stream",
          "text": [
            "[[3483  269    0    0    0    0    0    3   13    0]\n",
            " [2940  217    0    0    0    0    0    3   11    0]\n",
            " [ 343   27    0    0    0    0    0    0    0    0]\n",
            " [ 133   10    0    0    0    0    0    0    1    0]\n",
            " [  24    2    0    0    0    0    0    0    0    0]\n",
            " [   9    1    0    0    0    0    0    0    0    0]\n",
            " [  11    0    0    0    0    0    0    0    0    0]\n",
            " [   1    0    0    0    0    0    0    0    0    0]\n",
            " [   0    0    0    0    0    0    0    0    0    0]\n",
            " [   2    0    0    0    0    0    0    0    0    0]]\n",
            "              precision    recall  f1-score   support\n",
            "\n",
            "         0.0       0.50      0.92      0.65      3768\n",
            "         1.0       0.41      0.07      0.12      3171\n",
            "         2.0       0.00      0.00      0.00       370\n",
            "         3.0       0.00      0.00      0.00       144\n",
            "         4.0       0.00      0.00      0.00        26\n",
            "         5.0       0.00      0.00      0.00        10\n",
            "         6.0       0.00      0.00      0.00        11\n",
            "         7.0       0.00      0.00      0.00         1\n",
            "         8.0       0.00      0.00      0.00         0\n",
            "         9.0       0.00      0.00      0.00         2\n",
            "\n",
            "    accuracy                           0.49      7503\n",
            "   macro avg       0.09      0.10      0.08      7503\n",
            "weighted avg       0.43      0.49      0.38      7503\n",
            "\n"
          ],
          "name": "stdout"
        },
        {
          "output_type": "stream",
          "text": [
            "/usr/local/lib/python3.6/dist-packages/sklearn/metrics/classification.py:1437: UndefinedMetricWarning: Precision and F-score are ill-defined and being set to 0.0 in labels with no predicted samples.\n",
            "  'precision', 'predicted', average, warn_for)\n",
            "/usr/local/lib/python3.6/dist-packages/sklearn/metrics/classification.py:1439: UndefinedMetricWarning: Recall and F-score are ill-defined and being set to 0.0 in labels with no true samples.\n",
            "  'recall', 'true', average, warn_for)\n"
          ],
          "name": "stderr"
        }
      ]
    }
  ]
}