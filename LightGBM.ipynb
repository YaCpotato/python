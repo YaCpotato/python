{
  "nbformat": 4,
  "nbformat_minor": 0,
  "metadata": {
    "colab": {
      "name": "LightGBM.ipynb",
      "provenance": [],
      "collapsed_sections": [],
      "include_colab_link": true
    },
    "kernelspec": {
      "name": "python3",
      "display_name": "Python 3"
    }
  },
  "cells": [
    {
      "cell_type": "markdown",
      "metadata": {
        "id": "view-in-github",
        "colab_type": "text"
      },
      "source": [
        "<a href=\"https://colab.research.google.com/github/YaCpotato/python/blob/master/LightGBM.ipynb\" target=\"_parent\"><img src=\"https://colab.research.google.com/assets/colab-badge.svg\" alt=\"Open In Colab\"/></a>"
      ]
    },
    {
      "cell_type": "markdown",
      "metadata": {
        "id": "yVn3T7m0-ouX",
        "colab_type": "text"
      },
      "source": [
        "## ドライブのマウントとデータセットを保存してあるディレクトリへ移動"
      ]
    },
    {
      "cell_type": "code",
      "metadata": {
        "id": "tn8M0VUC-foJ",
        "colab_type": "code",
        "colab": {}
      },
      "source": [
        "from google.colab import drive\n",
        "drive.mount('/content/drive')"
      ],
      "execution_count": 0,
      "outputs": []
    },
    {
      "cell_type": "code",
      "metadata": {
        "id": "AaYnyoxw-lgP",
        "colab_type": "code",
        "colab": {}
      },
      "source": [
        "%cd drive/'My Drive'/'Colab Notebooks'/"
      ],
      "execution_count": 0,
      "outputs": []
    },
    {
      "cell_type": "markdown",
      "metadata": {
        "id": "1W1gJDad-zTU",
        "colab_type": "text"
      },
      "source": [
        "## データセットのロードとプレビュー"
      ]
    },
    {
      "cell_type": "code",
      "metadata": {
        "id": "XfZfJFFz-zbm",
        "colab_type": "code",
        "colab": {
          "base_uri": "https://localhost:8080/",
          "height": 204
        },
        "outputId": "bf59ddbe-9750-4cab-f9f1-d31ad340af05"
      },
      "source": [
        "import pandas as pd\n",
        "import io\n",
        "train = pd.read_csv('./poker-hand-training-true.csv', header=None)\n",
        "test = pd.read_csv('./poker-hand-testing.csv', header=None)\n",
        "train.head()\n",
        "test.head()"
      ],
      "execution_count": 3,
      "outputs": [
        {
          "output_type": "execute_result",
          "data": {
            "text/html": [
              "<div>\n",
              "<style scoped>\n",
              "    .dataframe tbody tr th:only-of-type {\n",
              "        vertical-align: middle;\n",
              "    }\n",
              "\n",
              "    .dataframe tbody tr th {\n",
              "        vertical-align: top;\n",
              "    }\n",
              "\n",
              "    .dataframe thead th {\n",
              "        text-align: right;\n",
              "    }\n",
              "</style>\n",
              "<table border=\"1\" class=\"dataframe\">\n",
              "  <thead>\n",
              "    <tr style=\"text-align: right;\">\n",
              "      <th></th>\n",
              "      <th>0</th>\n",
              "      <th>1</th>\n",
              "      <th>2</th>\n",
              "      <th>3</th>\n",
              "      <th>4</th>\n",
              "      <th>5</th>\n",
              "      <th>6</th>\n",
              "      <th>7</th>\n",
              "      <th>8</th>\n",
              "      <th>9</th>\n",
              "      <th>10</th>\n",
              "    </tr>\n",
              "  </thead>\n",
              "  <tbody>\n",
              "    <tr>\n",
              "      <th>0</th>\n",
              "      <td>1</td>\n",
              "      <td>1</td>\n",
              "      <td>1</td>\n",
              "      <td>13</td>\n",
              "      <td>2</td>\n",
              "      <td>4</td>\n",
              "      <td>2</td>\n",
              "      <td>3</td>\n",
              "      <td>1</td>\n",
              "      <td>12</td>\n",
              "      <td>0</td>\n",
              "    </tr>\n",
              "    <tr>\n",
              "      <th>1</th>\n",
              "      <td>3</td>\n",
              "      <td>12</td>\n",
              "      <td>3</td>\n",
              "      <td>2</td>\n",
              "      <td>3</td>\n",
              "      <td>11</td>\n",
              "      <td>4</td>\n",
              "      <td>5</td>\n",
              "      <td>2</td>\n",
              "      <td>5</td>\n",
              "      <td>1</td>\n",
              "    </tr>\n",
              "    <tr>\n",
              "      <th>2</th>\n",
              "      <td>1</td>\n",
              "      <td>9</td>\n",
              "      <td>4</td>\n",
              "      <td>6</td>\n",
              "      <td>1</td>\n",
              "      <td>4</td>\n",
              "      <td>3</td>\n",
              "      <td>2</td>\n",
              "      <td>3</td>\n",
              "      <td>9</td>\n",
              "      <td>1</td>\n",
              "    </tr>\n",
              "    <tr>\n",
              "      <th>3</th>\n",
              "      <td>1</td>\n",
              "      <td>4</td>\n",
              "      <td>3</td>\n",
              "      <td>13</td>\n",
              "      <td>2</td>\n",
              "      <td>13</td>\n",
              "      <td>2</td>\n",
              "      <td>1</td>\n",
              "      <td>3</td>\n",
              "      <td>6</td>\n",
              "      <td>1</td>\n",
              "    </tr>\n",
              "    <tr>\n",
              "      <th>4</th>\n",
              "      <td>3</td>\n",
              "      <td>10</td>\n",
              "      <td>2</td>\n",
              "      <td>7</td>\n",
              "      <td>1</td>\n",
              "      <td>2</td>\n",
              "      <td>2</td>\n",
              "      <td>11</td>\n",
              "      <td>4</td>\n",
              "      <td>9</td>\n",
              "      <td>0</td>\n",
              "    </tr>\n",
              "  </tbody>\n",
              "</table>\n",
              "</div>"
            ],
            "text/plain": [
              "   0   1   2   3   4   5   6   7   8   9   10\n",
              "0   1   1   1  13   2   4   2   3   1  12   0\n",
              "1   3  12   3   2   3  11   4   5   2   5   1\n",
              "2   1   9   4   6   1   4   3   2   3   9   1\n",
              "3   1   4   3  13   2  13   2   1   3   6   1\n",
              "4   3  10   2   7   1   2   2  11   4   9   0"
            ]
          },
          "metadata": {
            "tags": []
          },
          "execution_count": 3
        }
      ]
    },
    {
      "cell_type": "markdown",
      "metadata": {
        "id": "Vo8qvlcx-7_2",
        "colab_type": "text"
      },
      "source": [
        "## データ整形：ラベルの抽出と学習、教師データの分割"
      ]
    },
    {
      "cell_type": "code",
      "metadata": {
        "id": "XKAbWnEM-8Jy",
        "colab_type": "code",
        "colab": {
          "base_uri": "https://localhost:8080/",
          "height": 199
        },
        "outputId": "a3355b5d-6f8a-4e50-cd3c-4ae72c75cda7"
      },
      "source": [
        "from sklearn import preprocessing\n",
        "from keras.utils import np_utils\n",
        "from sklearn.model_selection import train_test_split\n",
        "from tensorflow.keras.utils import normalize\n",
        "\n",
        "train_Y = train[:][10]\n",
        "test_Y = test[:][10]\n",
        "\n",
        "X_train, X_test, = train_test_split(train,train_size=0.7)\n",
        "Y_train,Y_test = train_test_split(train_Y,train_size=0.7)\n",
        "print(X_train.shape,Y_train.shape,X_test.shape,Y_test.shape)\n",
        "\n",
        "X_train.drop(10,axis=1,inplace=True)\n",
        "X_test.drop(10,axis=1,inplace=True)\n",
        "print(X_train.shape,Y_train.shape,X_test.shape,Y_test.shape)"
      ],
      "execution_count": 4,
      "outputs": [
        {
          "output_type": "stream",
          "text": [
            "Using TensorFlow backend.\n"
          ],
          "name": "stderr"
        },
        {
          "output_type": "display_data",
          "data": {
            "text/html": [
              "<p style=\"color: red;\">\n",
              "The default version of TensorFlow in Colab will soon switch to TensorFlow 2.x.<br>\n",
              "We recommend you <a href=\"https://www.tensorflow.org/guide/migrate\" target=\"_blank\">upgrade</a> now \n",
              "or ensure your notebook will continue to use TensorFlow 1.x via the <code>%tensorflow_version 1.x</code> magic:\n",
              "<a href=\"https://colab.research.google.com/notebooks/tensorflow_version.ipynb\" target=\"_blank\">more info</a>.</p>\n"
            ],
            "text/plain": [
              "<IPython.core.display.HTML object>"
            ]
          },
          "metadata": {
            "tags": []
          }
        },
        {
          "output_type": "stream",
          "text": [
            "(17507, 11) (17507,) (7503, 11) (7503,)\n",
            "(17507, 10) (17507,) (7503, 10) (7503,)\n"
          ],
          "name": "stdout"
        },
        {
          "output_type": "stream",
          "text": [
            "/usr/local/lib/python3.6/dist-packages/pandas/core/frame.py:4117: SettingWithCopyWarning: \n",
            "A value is trying to be set on a copy of a slice from a DataFrame\n",
            "\n",
            "See the caveats in the documentation: http://pandas.pydata.org/pandas-docs/stable/user_guide/indexing.html#returning-a-view-versus-a-copy\n",
            "  errors=errors,\n"
          ],
          "name": "stderr"
        }
      ]
    },
    {
      "cell_type": "markdown",
      "metadata": {
        "id": "7Pe5IstK_JpW",
        "colab_type": "text"
      },
      "source": [
        "## 学習データからValidation用にデータを取り出す"
      ]
    },
    {
      "cell_type": "code",
      "metadata": {
        "id": "9yn0ohIN_Jwm",
        "colab_type": "code",
        "colab": {
          "base_uri": "https://localhost:8080/",
          "height": 34
        },
        "outputId": "995fe567-e8c1-43de-8a1b-e5766b03c199"
      },
      "source": [
        "import numpy as np\n",
        "X_train = X_train.astype('float32')\n",
        "X_test = X_test.astype('float32')\n",
        "Y_train = Y_train.astype('float32')\n",
        "Y_test = Y_test.astype('float32')\n",
        "\n",
        "X_train, X_val,= train_test_split(X_train,train_size=0.7)\n",
        "Y_train, Y_val = train_test_split(Y_train,train_size=0.7)\n",
        "print(X_train.shape,Y_train.shape,X_val.shape,Y_val.shape)"
      ],
      "execution_count": 5,
      "outputs": [
        {
          "output_type": "stream",
          "text": [
            "(12254, 10) (12254,) (5253, 10) (5253,)\n"
          ],
          "name": "stdout"
        }
      ]
    },
    {
      "cell_type": "markdown",
      "metadata": {
        "id": "TWa9A6kH_coB",
        "colab_type": "text"
      },
      "source": [
        "## LightGBMモデルを定義"
      ]
    },
    {
      "cell_type": "code",
      "metadata": {
        "id": "pYLITgAh_cum",
        "colab_type": "code",
        "colab": {}
      },
      "source": [
        "import lightgbm as lgb\n",
        "\n",
        "params = {\n",
        "    'n_estimators': 10000,  # 大きめにとっておく\n",
        "}\n",
        "\n",
        "lgb_model = lgb.LGBMClassifier(**params)"
      ],
      "execution_count": 0,
      "outputs": []
    },
    {
      "cell_type": "markdown",
      "metadata": {
        "id": "zA-FiV14_sEd",
        "colab_type": "text"
      },
      "source": [
        "## 学習"
      ]
    },
    {
      "cell_type": "code",
      "metadata": {
        "id": "yjGNNDga_sQG",
        "colab_type": "code",
        "colab": {
          "base_uri": "https://localhost:8080/",
          "height": 1000
        },
        "outputId": "04f6e57f-93a5-40ba-c8a0-fdd1b94d837f"
      },
      "source": [
        "%%time\n",
        "lgb_model.fit(X_train, Y_train,eval_set=[(X_val, Y_val)], early_stopping_rounds=100)"
      ],
      "execution_count": 7,
      "outputs": [
        {
          "output_type": "stream",
          "text": [
            "[1]\tvalid_0's multi_logloss: 1.01439\n",
            "Training until validation scores don't improve for 100 rounds.\n",
            "[2]\tvalid_0's multi_logloss: 0.991101\n",
            "[3]\tvalid_0's multi_logloss: 1.01081\n",
            "[4]\tvalid_0's multi_logloss: 0.991012\n",
            "[5]\tvalid_0's multi_logloss: 1.02348\n",
            "[6]\tvalid_0's multi_logloss: 1.01084\n",
            "[7]\tvalid_0's multi_logloss: 0.998051\n",
            "[8]\tvalid_0's multi_logloss: 1.03\n",
            "[9]\tvalid_0's multi_logloss: 1.0043\n",
            "[10]\tvalid_0's multi_logloss: 1.01097\n",
            "[11]\tvalid_0's multi_logloss: 1.08132\n",
            "[12]\tvalid_0's multi_logloss: 1.0111\n",
            "[13]\tvalid_0's multi_logloss: 1.02425\n",
            "[14]\tvalid_0's multi_logloss: 0.998558\n",
            "[15]\tvalid_0's multi_logloss: 1.06192\n",
            "[16]\tvalid_0's multi_logloss: 0.998928\n",
            "[17]\tvalid_0's multi_logloss: 1.08618\n",
            "[18]\tvalid_0's multi_logloss: 0.999575\n",
            "[19]\tvalid_0's multi_logloss: 1.0384\n",
            "[20]\tvalid_0's multi_logloss: 1.0001\n",
            "[21]\tvalid_0's multi_logloss: 1.05715\n",
            "[22]\tvalid_0's multi_logloss: 1.03258\n",
            "[23]\tvalid_0's multi_logloss: 1.06898\n",
            "[24]\tvalid_0's multi_logloss: 1.00762\n",
            "[25]\tvalid_0's multi_logloss: 1.12291\n",
            "[26]\tvalid_0's multi_logloss: 1.01427\n",
            "[27]\tvalid_0's multi_logloss: 1.06593\n",
            "[28]\tvalid_0's multi_logloss: 1.04067\n",
            "[29]\tvalid_0's multi_logloss: 1.07915\n",
            "[30]\tvalid_0's multi_logloss: 1.05377\n",
            "[31]\tvalid_0's multi_logloss: 1.01912\n",
            "[32]\tvalid_0's multi_logloss: 1.04206\n",
            "[33]\tvalid_0's multi_logloss: 1.06834\n",
            "[34]\tvalid_0's multi_logloss: 1.05521\n",
            "[35]\tvalid_0's multi_logloss: 1.06189\n",
            "[36]\tvalid_0's multi_logloss: 1.06881\n",
            "[37]\tvalid_0's multi_logloss: 1.08885\n",
            "[38]\tvalid_0's multi_logloss: 1.19072\n",
            "[39]\tvalid_0's multi_logloss: 1.01886\n",
            "[40]\tvalid_0's multi_logloss: 1.18625\n",
            "[41]\tvalid_0's multi_logloss: 1.01327\n",
            "[42]\tvalid_0's multi_logloss: 1.15222\n",
            "[43]\tvalid_0's multi_logloss: 1.07119\n",
            "[44]\tvalid_0's multi_logloss: 1.06518\n",
            "[45]\tvalid_0's multi_logloss: 1.07862\n",
            "[46]\tvalid_0's multi_logloss: 1.01504\n",
            "[47]\tvalid_0's multi_logloss: 1.26531\n",
            "[48]\tvalid_0's multi_logloss: 1.14887\n",
            "[49]\tvalid_0's multi_logloss: 1.12652\n",
            "[50]\tvalid_0's multi_logloss: 1.12765\n",
            "[51]\tvalid_0's multi_logloss: 1.21475\n",
            "[52]\tvalid_0's multi_logloss: 1.0163\n",
            "[53]\tvalid_0's multi_logloss: 1.27019\n",
            "[54]\tvalid_0's multi_logloss: 1.21926\n",
            "[55]\tvalid_0's multi_logloss: 1.2722\n",
            "[56]\tvalid_0's multi_logloss: 1.28603\n",
            "[57]\tvalid_0's multi_logloss: 1.08101\n",
            "[58]\tvalid_0's multi_logloss: 1.17772\n",
            "[59]\tvalid_0's multi_logloss: 1.0814\n",
            "[60]\tvalid_0's multi_logloss: 1.34404\n",
            "[61]\tvalid_0's multi_logloss: 1.30911\n",
            "[62]\tvalid_0's multi_logloss: 1.57673\n",
            "[63]\tvalid_0's multi_logloss: 1.11219\n",
            "[64]\tvalid_0's multi_logloss: 1.52185\n",
            "[65]\tvalid_0's multi_logloss: 1.39934\n",
            "[66]\tvalid_0's multi_logloss: 1.76934\n",
            "[67]\tvalid_0's multi_logloss: 1.83342\n",
            "[68]\tvalid_0's multi_logloss: 1.52615\n",
            "[69]\tvalid_0's multi_logloss: 2.12907\n",
            "[70]\tvalid_0's multi_logloss: 1.43329\n",
            "[71]\tvalid_0's multi_logloss: 2.15369\n",
            "[72]\tvalid_0's multi_logloss: 2.17926\n",
            "[73]\tvalid_0's multi_logloss: 2.17686\n",
            "[74]\tvalid_0's multi_logloss: 2.45355\n",
            "[75]\tvalid_0's multi_logloss: 2.35913\n",
            "[76]\tvalid_0's multi_logloss: 1.80558\n",
            "[77]\tvalid_0's multi_logloss: 2.59693\n",
            "[78]\tvalid_0's multi_logloss: 1.87482\n",
            "[79]\tvalid_0's multi_logloss: 2.66952\n",
            "[80]\tvalid_0's multi_logloss: 2.04916\n",
            "[81]\tvalid_0's multi_logloss: 1.96594\n",
            "[82]\tvalid_0's multi_logloss: 2.1053\n",
            "[83]\tvalid_0's multi_logloss: 1.98232\n",
            "[84]\tvalid_0's multi_logloss: 2.11147\n",
            "[85]\tvalid_0's multi_logloss: 2.03287\n",
            "[86]\tvalid_0's multi_logloss: 2.31717\n",
            "[87]\tvalid_0's multi_logloss: 2.15802\n",
            "[88]\tvalid_0's multi_logloss: 2.2036\n",
            "[89]\tvalid_0's multi_logloss: 2.29136\n",
            "[90]\tvalid_0's multi_logloss: 2.6493\n",
            "[91]\tvalid_0's multi_logloss: 2.11416\n",
            "[92]\tvalid_0's multi_logloss: 3.1486\n",
            "[93]\tvalid_0's multi_logloss: 3.22681\n",
            "[94]\tvalid_0's multi_logloss: 2.54999\n",
            "[95]\tvalid_0's multi_logloss: 2.58517\n",
            "[96]\tvalid_0's multi_logloss: 2.77654\n",
            "[97]\tvalid_0's multi_logloss: 2.6281\n",
            "[98]\tvalid_0's multi_logloss: 2.7112\n",
            "[99]\tvalid_0's multi_logloss: 2.62369\n",
            "[100]\tvalid_0's multi_logloss: 2.62469\n",
            "[101]\tvalid_0's multi_logloss: 2.93485\n",
            "[102]\tvalid_0's multi_logloss: 2.81387\n",
            "[103]\tvalid_0's multi_logloss: 2.74624\n",
            "[104]\tvalid_0's multi_logloss: 2.70318\n",
            "Early stopping, best iteration is:\n",
            "[4]\tvalid_0's multi_logloss: 0.991012\n",
            "CPU times: user 3.77 s, sys: 117 ms, total: 3.89 s\n",
            "Wall time: 2.08 s\n"
          ],
          "name": "stdout"
        },
        {
          "output_type": "execute_result",
          "data": {
            "text/plain": [
              "LGBMClassifier(boosting_type='gbdt', class_weight=None, colsample_bytree=1.0,\n",
              "               importance_type='split', learning_rate=0.1, max_depth=-1,\n",
              "               min_child_samples=20, min_child_weight=0.001, min_split_gain=0.0,\n",
              "               n_estimators=10000, n_jobs=-1, num_leaves=31, objective=None,\n",
              "               random_state=None, reg_alpha=0.0, reg_lambda=0.0, silent=True,\n",
              "               subsample=1.0, subsample_for_bin=200000, subsample_freq=0)"
            ]
          },
          "metadata": {
            "tags": []
          },
          "execution_count": 7
        }
      ]
    },
    {
      "cell_type": "markdown",
      "metadata": {
        "id": "KhhZ-aAz_0xY",
        "colab_type": "text"
      },
      "source": [
        "## 評価"
      ]
    },
    {
      "cell_type": "code",
      "metadata": {
        "id": "0kN5mw5g_07h",
        "colab_type": "code",
        "colab": {
          "base_uri": "https://localhost:8080/",
          "height": 530
        },
        "outputId": "175c3908-a958-4cbd-994e-797bd0553793"
      },
      "source": [
        "# テストデータを予測する\n",
        "Y_pred = lgb_model.predict_proba(X_test)\n",
        "Y_pred_max = np.argmax(Y_pred, axis=1)  # 最尤と判断したクラスの値にする\n",
        "\n",
        "# 精度 (Accuracy) を計算する\n",
        "from sklearn.metrics import confusion_matrix,classification_report\n",
        "print (confusion_matrix(Y_test, Y_pred_max))\n",
        "print (classification_report(Y_test, Y_pred_max))\n"
      ],
      "execution_count": 8,
      "outputs": [
        {
          "output_type": "stream",
          "text": [
            "[[3693    5    0    0    0    0    0    5    0    4]\n",
            " [3218    5    0    0    0    0    0    2    0    5]\n",
            " [ 363    0    0    0    0    0    0    1    0    1]\n",
            " [ 139    0    0    0    0    0    0    0    0    0]\n",
            " [  30    0    0    0    0    0    0    0    0    0]\n",
            " [  17    0    0    0    0    0    0    0    0    0]\n",
            " [  12    0    0    0    0    0    0    0    0    0]\n",
            " [   1    0    0    0    0    0    0    0    0    0]\n",
            " [   1    0    0    0    0    0    0    0    0    0]\n",
            " [   1    0    0    0    0    0    0    0    0    0]]\n",
            "              precision    recall  f1-score   support\n",
            "\n",
            "         0.0       0.49      1.00      0.66      3707\n",
            "         1.0       0.50      0.00      0.00      3230\n",
            "         2.0       0.00      0.00      0.00       365\n",
            "         3.0       0.00      0.00      0.00       139\n",
            "         4.0       0.00      0.00      0.00        30\n",
            "         5.0       0.00      0.00      0.00        17\n",
            "         6.0       0.00      0.00      0.00        12\n",
            "         7.0       0.00      0.00      0.00         1\n",
            "         8.0       0.00      0.00      0.00         1\n",
            "         9.0       0.00      0.00      0.00         1\n",
            "\n",
            "    accuracy                           0.49      7503\n",
            "   macro avg       0.10      0.10      0.07      7503\n",
            "weighted avg       0.46      0.49      0.33      7503\n",
            "\n"
          ],
          "name": "stdout"
        },
        {
          "output_type": "stream",
          "text": [
            "/usr/local/lib/python3.6/dist-packages/sklearn/metrics/classification.py:1437: UndefinedMetricWarning: Precision and F-score are ill-defined and being set to 0.0 in labels with no predicted samples.\n",
            "  'precision', 'predicted', average, warn_for)\n"
          ],
          "name": "stderr"
        }
      ]
    }
  ]
}