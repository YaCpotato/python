{
  "nbformat": 4,
  "nbformat_minor": 0,
  "metadata": {
    "colab": {
      "name": "LinearProgrammingPPM_2.ipynb",
      "provenance": [],
      "collapsed_sections": [],
      "authorship_tag": "ABX9TyNU+VZR+ynF2Wz1PVD/kGWE",
      "include_colab_link": true
    },
    "kernelspec": {
      "name": "python3",
      "display_name": "Python 3"
    }
  },
  "cells": [
    {
      "cell_type": "markdown",
      "metadata": {
        "id": "view-in-github",
        "colab_type": "text"
      },
      "source": [
        "<a href=\"https://colab.research.google.com/github/YaCpotato/python/blob/master/LinearProgrammingPPM_2.ipynb\" target=\"_parent\"><img src=\"https://colab.research.google.com/assets/colab-badge.svg\" alt=\"Open In Colab\"/></a>"
      ]
    },
    {
      "cell_type": "markdown",
      "metadata": {
        "id": "PQ3mN_JRwkFA",
        "colab_type": "text"
      },
      "source": [
        "### **1.2 要素による表現とベクトルによる表現**\n",
        "1.1で解いた生産計画問題は要素による表現を使用したが、ベクトルと行列を使うと議論が簡単になる場合がある。  \n",
        "例えば以下の例\n",
        "\n",
        "\\begin{split}\n",
        "     min.~& 2x_1 - 4x_2 - x_4 + 3x_5 \\\\\n",
        "       s.t.~& 3x_1 + x_3 - 5x_5 &\\geq 16 \\\\\n",
        "       & -2x_1 + 2x_2 + 3x_4 &\\geq 21 \\\\\n",
        "       & 4x_1 - 2x_2 +  x_3 - 3x_5 &= 18 \\\\\n",
        "       & -x_2 + 3x_4 + 2x_5 &= 9 \\\\\n",
        "       & x_1 \\geq 0, x_2 \\geq 0\n",
        "\\end{split} \n",
        "5つの変数と6つの制約を持つ線形計画問題において、  \n",
        "\n",
        "---\n",
        "\n",
        "定数ベクトル\n",
        "$$\n",
        "b_1 = \\begin{pmatrix}\n",
        "          16 \\\\\n",
        "          21\n",
        "        \\end{pmatrix}\n",
        ",\n",
        "b_2 = \\begin{pmatrix}\n",
        "          18 \\\\\n",
        "          9\n",
        "        \\end{pmatrix}\n",
        "c_1 = \\begin{pmatrix}\n",
        "          2 \\\\\n",
        "          -4\n",
        "        \\end{pmatrix}\n",
        ",\n",
        "c_2 = \\begin{pmatrix}\n",
        "          0 \\\\\n",
        "          -1 \\\\\n",
        "          3\n",
        "        \\end{pmatrix}\n",
        ",\n",
        "$$\n",
        "変数ベクトル\n",
        "$$\n",
        "x_1 = \\begin{pmatrix}\n",
        "          x_1 \\\\\n",
        "          x_2\n",
        "        \\end{pmatrix}\n",
        ",\n",
        "x_2 = \\begin{pmatrix}\n",
        "          x_3 \\\\\n",
        "          x_4 \\\\\n",
        "          x_5 \\\\\n",
        "        \\end{pmatrix}\n",
        "$$\n",
        "行列\n",
        "$$\n",
        "A_{11} = \\begin{pmatrix}\n",
        "          3 & 0 \\\\\n",
        "          -2 & 2\n",
        "        \\end{pmatrix}\n",
        ",\n",
        "A_{12} = \\begin{pmatrix}\n",
        "          1 & 0 & -5 \\\\\n",
        "          0 & 3 & 0\n",
        "        \\end{pmatrix}\n",
        "$$\n",
        "\n",
        "$$\n",
        "A_{21} = \\begin{pmatrix}\n",
        "          4 & -2 \\\\\n",
        "          0 & -1\n",
        "        \\end{pmatrix}\n",
        ",\n",
        "A_{22} = \\begin{pmatrix}\n",
        "          1 & 0 & -3 \\\\\n",
        "          0 & 3 & 2\n",
        "        \\end{pmatrix}\n",
        "$$"
      ]
    },
    {
      "cell_type": "markdown",
      "metadata": {
        "id": "vdqWULmAxBiR",
        "colab_type": "text"
      },
      "source": [
        "とすると、上記の問題は\n",
        "\\begin{split}\n",
        "     min.~& c_1^T x_1 + c_2^T x_2 \\\\\n",
        "       s.t.~& A_{11}x_1 + A_{12}x_2 &\\geq b_1 \\\\\n",
        "       & A_{21}x_1 + A_{22}x_2 &= b_2 \\\\\n",
        "       & x_1 \\geq 0\n",
        "\\end{split} \n",
        "\n",
        "と表せる。これが一般形の線形計画問題"
      ]
    },
    {
      "cell_type": "markdown",
      "metadata": {
        "id": "JuvE8X_d3D-d",
        "colab_type": "text"
      },
      "source": [
        "### 線形計画問題の標準形\n",
        "線形計画問題は、自然数$n$と$m$を使って、\n",
        "$$\n",
        "\\begin{split}\n",
        "     min.~& c_1x_1 + c_2x_2 \\ldots c_nx_n \\\\\n",
        "       s.t.~& a_{11}x_1 + a_{12}x_2 \\ldots a_{1n}x_n &= b_1 \\\\\n",
        "       & a_{m1}x_1 + a_{m2}x_2 \\ldots a_{mn}x_n &= b_m \\\\\n",
        "       & (x_1,x_2,\\ldots,x_n)^T \\geqq (0,0,\\ldots0)^T\n",
        "\\end{split} \n",
        "$$\n",
        "と表すことができるとき、**標準形(standard form)**と呼ばれる\n",
        "\n",
        "添字の集合を$N = \\{1,2,\\ldots ,n \\}　と$$N_m = \\{1,2,\\ldots ,m \\}$とすると、$x_i(i\\in N_n)$が変数であり、$b_j(j\\in N_m)$, $c_i(i\\in N_n)$, $a_ij(i\\in N_n,j\\in N_m)$は変数である。**標準形の線形計画問題は、全ての変数が0でないという非負条件(nonnegatine constraint)がつき、その他の制約が（不等式ではなく）線形の等式で表され、線形の目的関数を最小化することにある**\n",
        "\n",
        "そしてこの式も、\n",
        "\n",
        "ベクトル\n",
        "$$\n",
        "b = \\begin{pmatrix}\n",
        "          b_1 \\\\\n",
        "          b_2 \\\\\n",
        "          \\vdots \\\\\n",
        "          b_m\n",
        "        \\end{pmatrix}\n",
        ",\n",
        "c = \\begin{pmatrix}\n",
        "          c_1 \\\\\n",
        "          c_2 \\\\\n",
        "          \\vdots \\\\\n",
        "          c_n\n",
        "        \\end{pmatrix}\n",
        ",\n",
        "x = \\begin{pmatrix}\n",
        "          x_1 \\\\\n",
        "          x_2 \\\\\n",
        "          \\vdots \\\\\n",
        "          x_n\n",
        "        \\end{pmatrix}\n",
        "$$\n",
        "行列\n",
        "$$\n",
        "A = \\begin{pmatrix}\n",
        "          a_{11} & a_{12} & \\cdots & a_{1n} \\\\\n",
        "          a_{11} & a_{12} & \\cdots & a_{1n} \\\\\n",
        "          & & \\vdots \\\\\n",
        "          a_{m1} & a_{m2} & \\cdots & a_{mn} \\\\\n",
        "        \\end{pmatrix}\n",
        "$$\n",
        "を用いて、以下のように表せる\n",
        "$$\n",
        "\\begin{split}\n",
        "     min.~& c^Tx \\\\\n",
        "       s.t.~& Ax = b \\\\\n",
        "       & x \\geqq 0\n",
        "\\end{split} \n",
        "$$"
      ]
    },
    {
      "cell_type": "markdown",
      "metadata": {
        "id": "cUuRSLy6DfLT",
        "colab_type": "text"
      },
      "source": [
        "線形計画問題は、制約条件を全て満たすベクトル$x$を実行可能解（feasible solution）といい、実行可能解の中で目的関数を最適にするものを最適解（optional solution）といい、その目的関数の値を最適値(optional value)という。また、実行可能解の集合を実行可能領域という。\n",
        "\n",
        "\n",
        "$ F \\ne ø$のとき、線形計画問題が実行可能であるといい、$F = ø$のとき、実行不能であるという"
      ]
    },
    {
      "cell_type": "code",
      "metadata": {
        "id": "TwS9G7ObweHX",
        "colab_type": "code",
        "colab": {}
      },
      "source": [
        ""
      ],
      "execution_count": 0,
      "outputs": []
    }
  ]
}