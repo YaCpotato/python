{
  "nbformat": 4,
  "nbformat_minor": 0,
  "metadata": {
    "colab": {
      "name": "LinearProgrammingPPM_2.ipynb",
      "provenance": [],
      "authorship_tag": "ABX9TyNl/ia0CcewHBxuY/ELS5UH",
      "include_colab_link": true
    },
    "kernelspec": {
      "name": "python3",
      "display_name": "Python 3"
    }
  },
  "cells": [
    {
      "cell_type": "markdown",
      "metadata": {
        "id": "view-in-github",
        "colab_type": "text"
      },
      "source": [
        "<a href=\"https://colab.research.google.com/github/YaCpotato/python/blob/master/LinearProgrammingPPM_2.ipynb\" target=\"_parent\"><img src=\"https://colab.research.google.com/assets/colab-badge.svg\" alt=\"Open In Colab\"/></a>"
      ]
    },
    {
      "cell_type": "markdown",
      "metadata": {
        "id": "PQ3mN_JRwkFA",
        "colab_type": "text"
      },
      "source": [
        "### **1.2 要素による表現とベクトルによる表現**\n",
        "1.1で解いた生産計画問題は要素による表現を使用したが、ベクトルと行列を使うと議論が簡単になる場合がある。  \n",
        "例えば以下の例\n",
        "\n",
        "\\begin{split}\n",
        "     min.~& 2x_1 - 4x_2 - x_4 + 3x_5 \\\\\n",
        "       s.t.~& 3x_1 + x_3 - 5x_5 &\\geq 16 \\\\\n",
        "       & -2x_1 + 2x_2 + 3x_4 &\\geq 21 \\\\\n",
        "       & 4x_1 - 2x_2 +  x_3 - 3x_5 &= 18 \\\\\n",
        "       & -x_2 + 3x_4 + 2x_5 &= 9 \\\\\n",
        "       & x_1 \\geq 0, x_2 \\geq 0\n",
        "\\end{split} \n",
        "5つの変数と6つの制約を持つ線形計画問題において、  \n",
        "\n",
        "---\n",
        "\n",
        "定数ベクトル\n",
        "$$\n",
        "b_1 = \\begin{pmatrix}\n",
        "          16 \\\\\n",
        "          21\n",
        "        \\end{pmatrix}\n",
        ",\n",
        "b_2 = \\begin{pmatrix}\n",
        "          18 \\\\\n",
        "          9\n",
        "        \\end{pmatrix}\n",
        "c_1 = \\begin{pmatrix}\n",
        "          2 \\\\\n",
        "          -4\n",
        "        \\end{pmatrix}\n",
        ",\n",
        "c_2 = \\begin{pmatrix}\n",
        "          0 \\\\\n",
        "          -1 \\\\\n",
        "          3\n",
        "        \\end{pmatrix}\n",
        ",\n",
        "$$\n",
        "変数ベクトル\n",
        "$$\n",
        "x_1 = \\begin{pmatrix}\n",
        "          x_1 \\\\\n",
        "          x_2\n",
        "        \\end{pmatrix}\n",
        ",\n",
        "x_2 = \\begin{pmatrix}\n",
        "          x_3 \\\\\n",
        "          x_4 \\\\\n",
        "          x_5 \\\\\n",
        "        \\end{pmatrix}\n",
        "$$\n",
        "行列\n",
        "$$\n",
        "A_{11} = \\begin{pmatrix}\n",
        "          3 & 0 \\\\\n",
        "          -2 & 2\n",
        "        \\end{pmatrix}\n",
        ",\n",
        "A_{12} = \\begin{pmatrix}\n",
        "          1 & 0 & -5 \\\\\n",
        "          0 & 3 & 0\n",
        "        \\end{pmatrix}\n",
        "$$\n",
        "\n",
        "$$\n",
        "A_{21} = \\begin{pmatrix}\n",
        "          4 & -2 \\\\\n",
        "          0 & -1\n",
        "        \\end{pmatrix}\n",
        ",\n",
        "A_{22} = \\begin{pmatrix}\n",
        "          1 & 0 & -3 \\\\\n",
        "          0 & 3 & 2\n",
        "        \\end{pmatrix}\n",
        "$$"
      ]
    },
    {
      "cell_type": "markdown",
      "metadata": {
        "id": "vdqWULmAxBiR",
        "colab_type": "text"
      },
      "source": [
        "とすると、上記の問題は\n",
        "\\begin{split}\n",
        "     min.~& c_1^T x_1 + c_2^T x_2 \\\\\n",
        "       s.t.~& A_{11}x_1 + A_{12}x_2 &\\geq b_1 \\\\\n",
        "       & A_{21}x_1 + A_{22}x_2 &= b_2 \\\\\n",
        "       & x_1 \\geq 0\n",
        "\\end{split} \n",
        "\n",
        "と表せる。これが一般形の線形計画問題"
      ]
    },
    {
      "cell_type": "code",
      "metadata": {
        "id": "TwS9G7ObweHX",
        "colab_type": "code",
        "colab": {}
      },
      "source": [
        ""
      ],
      "execution_count": 0,
      "outputs": []
    }
  ]
}