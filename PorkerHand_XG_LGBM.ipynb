{
  "nbformat": 4,
  "nbformat_minor": 0,
  "metadata": {
    "colab": {
      "name": "PorkerHand_XG_LGBM.ipynb",
      "provenance": [],
      "collapsed_sections": [],
      "include_colab_link": true
    },
    "kernelspec": {
      "name": "python3",
      "display_name": "Python 3"
    }
  },
  "cells": [
    {
      "cell_type": "markdown",
      "metadata": {
        "id": "view-in-github",
        "colab_type": "text"
      },
      "source": [
        "<a href=\"https://colab.research.google.com/github/YaCpotato/python/blob/master/PorkerHand_XG_LGBM.ipynb\" target=\"_parent\"><img src=\"https://colab.research.google.com/assets/colab-badge.svg\" alt=\"Open In Colab\"/></a>"
      ]
    },
    {
      "cell_type": "markdown",
      "metadata": {
        "id": "xS4fJZEwr4hi",
        "colab_type": "text"
      },
      "source": [
        "やること  \n",
        "* XGBoost理論調査\n",
        "* LightGBM CatBoostとの比較"
      ]
    },
    {
      "cell_type": "code",
      "metadata": {
        "id": "25b8vhxSTaET",
        "colab_type": "code",
        "outputId": "d1ccda86-30df-488c-9eac-b0eb19611a48",
        "colab": {
          "base_uri": "https://localhost:8080/",
          "height": 122
        }
      },
      "source": [
        "from google.colab import drive\n",
        "drive.mount('/content/drive')"
      ],
      "execution_count": 3,
      "outputs": [
        {
          "output_type": "stream",
          "text": [
            "Go to this URL in a browser: https://accounts.google.com/o/oauth2/auth?client_id=947318989803-6bn6qk8qdgf4n4g3pfee6491hc0brc4i.apps.googleusercontent.com&redirect_uri=urn%3aietf%3awg%3aoauth%3a2.0%3aoob&response_type=code&scope=email%20https%3a%2f%2fwww.googleapis.com%2fauth%2fdocs.test%20https%3a%2f%2fwww.googleapis.com%2fauth%2fdrive%20https%3a%2f%2fwww.googleapis.com%2fauth%2fdrive.photos.readonly%20https%3a%2f%2fwww.googleapis.com%2fauth%2fpeopleapi.readonly\n",
            "\n",
            "Enter your authorization code:\n",
            "··········\n",
            "Mounted at /content/drive\n"
          ],
          "name": "stdout"
        }
      ]
    },
    {
      "cell_type": "code",
      "metadata": {
        "id": "mptyGY4BVaT6",
        "colab_type": "code",
        "outputId": "18cd3a0f-0d50-4607-d626-6d92b233cd32",
        "colab": {
          "base_uri": "https://localhost:8080/",
          "height": 34
        }
      },
      "source": [
        "%cd drive/'My Drive'/'Colab Notebooks'/"
      ],
      "execution_count": 4,
      "outputs": [
        {
          "output_type": "stream",
          "text": [
            "/content/drive/My Drive/Colab Notebooks\n"
          ],
          "name": "stdout"
        }
      ]
    },
    {
      "cell_type": "code",
      "metadata": {
        "id": "ttgqpa1EhQ-6",
        "colab_type": "code",
        "outputId": "6e791287-369f-4526-b2bd-d72f75fc1cad",
        "colab": {
          "base_uri": "https://localhost:8080/",
          "height": 204
        }
      },
      "source": [
        "import pandas as pd\n",
        "import io\n",
        "train = pd.read_csv('./poker-hand-training-true.csv', header=None)\n",
        "test = pd.read_csv('./poker-hand-testing.csv', header=None)\n",
        "train.head()\n",
        "test.head()"
      ],
      "execution_count": 5,
      "outputs": [
        {
          "output_type": "execute_result",
          "data": {
            "text/html": [
              "<div>\n",
              "<style scoped>\n",
              "    .dataframe tbody tr th:only-of-type {\n",
              "        vertical-align: middle;\n",
              "    }\n",
              "\n",
              "    .dataframe tbody tr th {\n",
              "        vertical-align: top;\n",
              "    }\n",
              "\n",
              "    .dataframe thead th {\n",
              "        text-align: right;\n",
              "    }\n",
              "</style>\n",
              "<table border=\"1\" class=\"dataframe\">\n",
              "  <thead>\n",
              "    <tr style=\"text-align: right;\">\n",
              "      <th></th>\n",
              "      <th>0</th>\n",
              "      <th>1</th>\n",
              "      <th>2</th>\n",
              "      <th>3</th>\n",
              "      <th>4</th>\n",
              "      <th>5</th>\n",
              "      <th>6</th>\n",
              "      <th>7</th>\n",
              "      <th>8</th>\n",
              "      <th>9</th>\n",
              "      <th>10</th>\n",
              "    </tr>\n",
              "  </thead>\n",
              "  <tbody>\n",
              "    <tr>\n",
              "      <th>0</th>\n",
              "      <td>1</td>\n",
              "      <td>1</td>\n",
              "      <td>1</td>\n",
              "      <td>13</td>\n",
              "      <td>2</td>\n",
              "      <td>4</td>\n",
              "      <td>2</td>\n",
              "      <td>3</td>\n",
              "      <td>1</td>\n",
              "      <td>12</td>\n",
              "      <td>0</td>\n",
              "    </tr>\n",
              "    <tr>\n",
              "      <th>1</th>\n",
              "      <td>3</td>\n",
              "      <td>12</td>\n",
              "      <td>3</td>\n",
              "      <td>2</td>\n",
              "      <td>3</td>\n",
              "      <td>11</td>\n",
              "      <td>4</td>\n",
              "      <td>5</td>\n",
              "      <td>2</td>\n",
              "      <td>5</td>\n",
              "      <td>1</td>\n",
              "    </tr>\n",
              "    <tr>\n",
              "      <th>2</th>\n",
              "      <td>1</td>\n",
              "      <td>9</td>\n",
              "      <td>4</td>\n",
              "      <td>6</td>\n",
              "      <td>1</td>\n",
              "      <td>4</td>\n",
              "      <td>3</td>\n",
              "      <td>2</td>\n",
              "      <td>3</td>\n",
              "      <td>9</td>\n",
              "      <td>1</td>\n",
              "    </tr>\n",
              "    <tr>\n",
              "      <th>3</th>\n",
              "      <td>1</td>\n",
              "      <td>4</td>\n",
              "      <td>3</td>\n",
              "      <td>13</td>\n",
              "      <td>2</td>\n",
              "      <td>13</td>\n",
              "      <td>2</td>\n",
              "      <td>1</td>\n",
              "      <td>3</td>\n",
              "      <td>6</td>\n",
              "      <td>1</td>\n",
              "    </tr>\n",
              "    <tr>\n",
              "      <th>4</th>\n",
              "      <td>3</td>\n",
              "      <td>10</td>\n",
              "      <td>2</td>\n",
              "      <td>7</td>\n",
              "      <td>1</td>\n",
              "      <td>2</td>\n",
              "      <td>2</td>\n",
              "      <td>11</td>\n",
              "      <td>4</td>\n",
              "      <td>9</td>\n",
              "      <td>0</td>\n",
              "    </tr>\n",
              "  </tbody>\n",
              "</table>\n",
              "</div>"
            ],
            "text/plain": [
              "   0   1   2   3   4   5   6   7   8   9   10\n",
              "0   1   1   1  13   2   4   2   3   1  12   0\n",
              "1   3  12   3   2   3  11   4   5   2   5   1\n",
              "2   1   9   4   6   1   4   3   2   3   9   1\n",
              "3   1   4   3  13   2  13   2   1   3   6   1\n",
              "4   3  10   2   7   1   2   2  11   4   9   0"
            ]
          },
          "metadata": {
            "tags": []
          },
          "execution_count": 5
        }
      ]
    },
    {
      "cell_type": "markdown",
      "metadata": {
        "id": "CSHvDl1Lo-vO",
        "colab_type": "text"
      },
      "source": [
        "こういうデータに対して(どういうデータか説明もできない)するべき前処理が未だうかばない筆者です。アドバイス求む。  \n",
        "PandasのDataFrameも使おうとしたがまだ機械学習のいちプロセスで使い通せない段階"
      ]
    },
    {
      "cell_type": "markdown",
      "metadata": {
        "id": "3AWFyjLzpWEJ",
        "colab_type": "text"
      },
      "source": [
        "# データを整形する\n",
        "* ラベルデータの取り出し(正確には代入してから削除してる)\n",
        "* 学習データ、テストデータの分割"
      ]
    },
    {
      "cell_type": "code",
      "metadata": {
        "id": "cc4-7RaG3dFV",
        "colab_type": "code",
        "outputId": "16de1fec-6f97-4f13-83a8-3f2c6875f180",
        "colab": {
          "base_uri": "https://localhost:8080/",
          "height": 182
        }
      },
      "source": [
        "from sklearn import preprocessing\n",
        "from keras.utils import np_utils\n",
        "from sklearn.model_selection import train_test_split\n",
        "from tensorflow.keras.utils import normalize\n",
        "\n",
        "train_Y = train[:][10]\n",
        "test_Y = test[:][10]\n",
        "\n",
        "X_train, X_test, Y_train, Y_test = train_test_split(train, train_Y,train_size=0.7)\n",
        "\n",
        "\n",
        "X_train.drop(10,axis=1,inplace=True)\n",
        "X_test.drop(10,axis=1,inplace=True)\n",
        "print(X_train.shape,Y_train.shape,X_test.shape,Y_test.shape)"
      ],
      "execution_count": 6,
      "outputs": [
        {
          "output_type": "stream",
          "text": [
            "Using TensorFlow backend.\n"
          ],
          "name": "stderr"
        },
        {
          "output_type": "display_data",
          "data": {
            "text/html": [
              "<p style=\"color: red;\">\n",
              "The default version of TensorFlow in Colab will soon switch to TensorFlow 2.x.<br>\n",
              "We recommend you <a href=\"https://www.tensorflow.org/guide/migrate\" target=\"_blank\">upgrade</a> now \n",
              "or ensure your notebook will continue to use TensorFlow 1.x via the <code>%tensorflow_version 1.x</code> magic:\n",
              "<a href=\"https://colab.research.google.com/notebooks/tensorflow_version.ipynb\" target=\"_blank\">more info</a>.</p>\n"
            ],
            "text/plain": [
              "<IPython.core.display.HTML object>"
            ]
          },
          "metadata": {
            "tags": []
          }
        },
        {
          "output_type": "stream",
          "text": [
            "(17507, 10) (17507,) (7503, 10) (7503,)\n"
          ],
          "name": "stdout"
        },
        {
          "output_type": "stream",
          "text": [
            "/usr/local/lib/python3.6/dist-packages/pandas/core/frame.py:4117: SettingWithCopyWarning: \n",
            "A value is trying to be set on a copy of a slice from a DataFrame\n",
            "\n",
            "See the caveats in the documentation: http://pandas.pydata.org/pandas-docs/stable/user_guide/indexing.html#returning-a-view-versus-a-copy\n",
            "  errors=errors,\n"
          ],
          "name": "stderr"
        }
      ]
    },
    {
      "cell_type": "code",
      "metadata": {
        "id": "xv9zm55n_zKS",
        "colab_type": "code",
        "colab": {}
      },
      "source": [
        "import xgboost as xgb\n",
        "from sklearn.model_selection import GridSearchCV"
      ],
      "execution_count": 0,
      "outputs": []
    },
    {
      "cell_type": "code",
      "metadata": {
        "id": "1I8wXxUA_zfb",
        "colab_type": "code",
        "colab": {}
      },
      "source": [
        "clf = xgb.XGBClassifier()"
      ],
      "execution_count": 0,
      "outputs": []
    },
    {
      "cell_type": "code",
      "metadata": {
        "id": "BN2I5RWz_7fO",
        "colab_type": "code",
        "colab": {}
      },
      "source": [
        "clf_cv = GridSearchCV(clf, {'max_depth': [2,4,6], 'n_estimators': [50,100,200]}, verbose=1)"
      ],
      "execution_count": 0,
      "outputs": []
    },
    {
      "cell_type": "code",
      "metadata": {
        "id": "MY4GVOvl_-Lm",
        "colab_type": "code",
        "outputId": "50a0314f-2ee1-4a3a-fe7e-3145d147447e",
        "colab": {
          "base_uri": "https://localhost:8080/",
          "height": 445
        }
      },
      "source": [
        "print(X_train.shape,Y_train.shape)\n",
        "clf_cv.fit(X_train, Y_train,verbose=1)"
      ],
      "execution_count": 0,
      "outputs": [
        {
          "output_type": "stream",
          "text": [
            "(17507, 10) (17507,)\n",
            "Fitting 3 folds for each of 9 candidates, totalling 27 fits\n"
          ],
          "name": "stdout"
        },
        {
          "output_type": "stream",
          "text": [
            "/usr/local/lib/python3.6/dist-packages/sklearn/model_selection/_split.py:1978: FutureWarning: The default value of cv will change from 3 to 5 in version 0.22. Specify it explicitly to silence this warning.\n",
            "  warnings.warn(CV_WARNING, FutureWarning)\n",
            "/usr/local/lib/python3.6/dist-packages/sklearn/model_selection/_split.py:657: Warning: The least populated class in y has only 2 members, which is too few. The minimum number of members in any class cannot be less than n_splits=3.\n",
            "  % (min_groups, self.n_splits)), Warning)\n",
            "[Parallel(n_jobs=1)]: Using backend SequentialBackend with 1 concurrent workers.\n",
            "[Parallel(n_jobs=1)]: Done  27 out of  27 | elapsed:  2.7min finished\n"
          ],
          "name": "stderr"
        },
        {
          "output_type": "execute_result",
          "data": {
            "text/plain": [
              "GridSearchCV(cv='warn', error_score='raise-deprecating',\n",
              "             estimator=XGBClassifier(base_score=0.5, booster='gbtree',\n",
              "                                     colsample_bylevel=1, colsample_bynode=1,\n",
              "                                     colsample_bytree=1, gamma=0,\n",
              "                                     learning_rate=0.1, max_delta_step=0,\n",
              "                                     max_depth=3, min_child_weight=1,\n",
              "                                     missing=None, n_estimators=100, n_jobs=1,\n",
              "                                     nthread=None, objective='binary:logistic',\n",
              "                                     random_state=0, reg_alpha=0, reg_lambda=1,\n",
              "                                     scale_pos_weight=1, seed=None, silent=None,\n",
              "                                     subsample=1, verbosity=1),\n",
              "             iid='warn', n_jobs=None,\n",
              "             param_grid={'max_depth': [2, 4, 6],\n",
              "                         'n_estimators': [50, 100, 200]},\n",
              "             pre_dispatch='2*n_jobs', refit=True, return_train_score=False,\n",
              "             scoring=None, verbose=1)"
            ]
          },
          "metadata": {
            "tags": []
          },
          "execution_count": 39
        }
      ]
    },
    {
      "cell_type": "code",
      "metadata": {
        "id": "NzpX_Tq7Kbuv",
        "colab_type": "code",
        "outputId": "6c64d05f-9445-4416-ab9e-e1502e21fb45",
        "colab": {
          "base_uri": "https://localhost:8080/",
          "height": 496
        }
      },
      "source": [
        "# 改めて最適パラメータで学習\n",
        "clf = xgb.XGBClassifier(**clf_cv.best_params_)\n",
        "clf.fit(X_train, Y_train,verbose=1)\n",
        "\n",
        "# 学習モデルの評価\n",
        "from sklearn.metrics import confusion_matrix,classification_report\n",
        "pred = clf.predict(X_test)\n",
        "print (confusion_matrix(Y_test, pred))\n",
        "print (classification_report(Y_test, pred))"
      ],
      "execution_count": 0,
      "outputs": [
        {
          "output_type": "stream",
          "text": [
            "[[3221  591    1    0    0    0    0    0    0]\n",
            " [1147 1948   12    2    1    0    0    0    0]\n",
            " [  28  315   11    1    0    0    0    0    0]\n",
            " [   5  145    1    9    0    0    0    0    0]\n",
            " [   2   29    0    0    0    0    0    0    0]\n",
            " [  16    1    0    0    0    1    0    0    0]\n",
            " [   0    9    0    1    0    0    0    0    0]\n",
            " [   0    3    0    0    0    0    0    0    0]\n",
            " [   1    1    0    0    0    1    0    0    0]]\n",
            "              precision    recall  f1-score   support\n",
            "\n",
            "           0       0.73      0.84      0.78      3813\n",
            "           1       0.64      0.63      0.63      3110\n",
            "           2       0.44      0.03      0.06       355\n",
            "           3       0.69      0.06      0.10       160\n",
            "           4       0.00      0.00      0.00        31\n",
            "           5       0.50      0.06      0.10        18\n",
            "           6       0.00      0.00      0.00        10\n",
            "           7       0.00      0.00      0.00         3\n",
            "           9       0.00      0.00      0.00         3\n",
            "\n",
            "    accuracy                           0.69      7503\n",
            "   macro avg       0.33      0.18      0.19      7503\n",
            "weighted avg       0.67      0.69      0.67      7503\n",
            "\n"
          ],
          "name": "stdout"
        },
        {
          "output_type": "stream",
          "text": [
            "/usr/local/lib/python3.6/dist-packages/sklearn/metrics/classification.py:1437: UndefinedMetricWarning: Precision and F-score are ill-defined and being set to 0.0 in labels with no predicted samples.\n",
            "  'precision', 'predicted', average, warn_for)\n"
          ],
          "name": "stderr"
        }
      ]
    },
    {
      "cell_type": "markdown",
      "metadata": {
        "id": "2pBFCpW9RC0V",
        "colab_type": "text"
      },
      "source": [
        "## RandomForestClassifier"
      ]
    },
    {
      "cell_type": "code",
      "metadata": {
        "id": "Evork63dOpqU",
        "colab_type": "code",
        "outputId": "e793d071-70a6-4228-bf20-db89d7a49ba4",
        "colab": {
          "base_uri": "https://localhost:8080/",
          "height": 34
        }
      },
      "source": [
        "from sklearn.ensemble import RandomForestClassifier\n",
        "RFCmodel = RandomForestClassifier(n_estimators=100,random_state=0)\n",
        "RFCmodel.fit(X_train,Y_train)\n",
        "pred = RFCmodel.predict(X_test)\n",
        "print(RFCmodel.score(X_test,Y_test))"
      ],
      "execution_count": 0,
      "outputs": [
        {
          "output_type": "stream",
          "text": [
            "0.5949620151939224\n"
          ],
          "name": "stdout"
        }
      ]
    },
    {
      "cell_type": "markdown",
      "metadata": {
        "id": "Ezbg72mURI1R",
        "colab_type": "text"
      },
      "source": [
        "## LightGBM"
      ]
    },
    {
      "cell_type": "code",
      "metadata": {
        "id": "9j0z8MzFMSxR",
        "colab_type": "code",
        "colab": {}
      },
      "source": [
        "import lightgbm as lgb"
      ],
      "execution_count": 0,
      "outputs": []
    },
    {
      "cell_type": "code",
      "metadata": {
        "id": "3ooIHAYtMTWm",
        "colab_type": "code",
        "colab": {
          "base_uri": "https://localhost:8080/",
          "height": 544
        },
        "outputId": "7e232e75-174a-4b71-eb47-02e63d11742a"
      },
      "source": [
        "import numpy as np\n",
        "X_train = X_train.astype('float32')\n",
        "X_test = X_test.astype('float32')\n",
        "Y_train = Y_train.astype('float32')\n",
        "Y_test = Y_test.astype('float32')\n",
        "\n",
        "lgb_model = lgb.LGBMClassifier()\n",
        "lgb_model.fit(X_train, Y_train)\n",
        "\n",
        "# テストデータを予測する\n",
        "Y_pred = lgb_model.predict_proba(X_test)\n",
        "Y_pred_max = np.argmax(Y_pred, axis=1)  # 最尤と判断したクラスの値にする\n",
        "\n",
        "# 精度 (Accuracy) を計算する\n",
        "from sklearn.metrics import confusion_matrix,classification_report\n",
        "print (confusion_matrix(Y_test, Y_pred_max))\n",
        "print (classification_report(Y_test, Y_pred_max))\n"
      ],
      "execution_count": 25,
      "outputs": [
        {
          "output_type": "stream",
          "text": [
            "9.0 [3.43770564e-001 6.28024340e-001 2.00379787e-002 8.09275091e-003\n",
            " 2.16181148e-005 5.25127588e-005 2.35097961e-007 0.00000000e+000\n",
            " 0.00000000e+000 1.00459833e-135]\n",
            "[[3009  602    3    0   11   12    2   20   16   11]\n",
            " [1588 1550   12    2   11   12   10   17   17    7]\n",
            " [  78  270    6    2    1    2    1    2    2    1]\n",
            " [  30  114    3    7    0    1    1    0    1    1]\n",
            " [   2   33    0    0    0    0    2    0    1    0]\n",
            " [  16    0    0    0    0    0    0    0    0    0]\n",
            " [   1    8    0    1    0    0    0    0    0    0]\n",
            " [   0    1    0    0    0    0    0    0    0    0]\n",
            " [   0    1    0    0    0    0    0    0    0    0]\n",
            " [   2    0    0    0    0    0    0    0    0    0]]\n",
            "              precision    recall  f1-score   support\n",
            "\n",
            "         0.0       0.64      0.82      0.72      3686\n",
            "         1.0       0.60      0.48      0.53      3226\n",
            "         2.0       0.25      0.02      0.03       365\n",
            "         3.0       0.58      0.04      0.08       158\n",
            "         4.0       0.00      0.00      0.00        38\n",
            "         5.0       0.00      0.00      0.00        16\n",
            "         6.0       0.00      0.00      0.00        10\n",
            "         7.0       0.00      0.00      0.00         1\n",
            "         8.0       0.00      0.00      0.00         1\n",
            "         9.0       0.00      0.00      0.00         2\n",
            "\n",
            "    accuracy                           0.61      7503\n",
            "   macro avg       0.21      0.14      0.14      7503\n",
            "weighted avg       0.60      0.61      0.58      7503\n",
            "\n",
            "0.6093562574970012\n"
          ],
          "name": "stdout"
        }
      ]
    }
  ]
}