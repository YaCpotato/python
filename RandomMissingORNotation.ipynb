{
  "nbformat": 4,
  "nbformat_minor": 0,
  "metadata": {
    "colab": {
      "name": "RandomMissingORNotation.ipynb",
      "provenance": [],
      "authorship_tag": "ABX9TyNZv+Jqk7InOCGPRbZncGin",
      "include_colab_link": true
    },
    "kernelspec": {
      "name": "python3",
      "display_name": "Python 3"
    }
  },
  "cells": [
    {
      "cell_type": "markdown",
      "metadata": {
        "id": "view-in-github",
        "colab_type": "text"
      },
      "source": [
        "<a href=\"https://colab.research.google.com/github/YaCpotato/python/blob/master/RandomMissingORNotation.ipynb\" target=\"_parent\"><img src=\"https://colab.research.google.com/assets/colab-badge.svg\" alt=\"Open In Colab\"/></a>"
      ]
    },
    {
      "cell_type": "code",
      "metadata": {
        "id": "s9eC0UkLiGuv",
        "colab_type": "code",
        "colab": {}
      },
      "source": [
        "import numpy as np\n",
        "import pandas as pd"
      ],
      "execution_count": 2,
      "outputs": []
    },
    {
      "cell_type": "code",
      "metadata": {
        "id": "dWfeZ58qiJdZ",
        "colab_type": "code",
        "colab": {}
      },
      "source": [
        "sample_data = np.random.rand(100, 10)\n",
        "sample_dataset = pd.DataFrame(sample_data)"
      ],
      "execution_count": 21,
      "outputs": []
    },
    {
      "cell_type": "code",
      "metadata": {
        "id": "hEagoczhiXmc",
        "colab_type": "code",
        "colab": {
          "base_uri": "https://localhost:8080/",
          "height": 306
        },
        "outputId": "cd589238-69bd-44e7-84ae-364b6ae40f88"
      },
      "source": [
        "sample_dataset.info()"
      ],
      "execution_count": 22,
      "outputs": [
        {
          "output_type": "stream",
          "text": [
            "<class 'pandas.core.frame.DataFrame'>\n",
            "RangeIndex: 100 entries, 0 to 99\n",
            "Data columns (total 10 columns):\n",
            " #   Column  Non-Null Count  Dtype  \n",
            "---  ------  --------------  -----  \n",
            " 0   0       100 non-null    float64\n",
            " 1   1       100 non-null    float64\n",
            " 2   2       100 non-null    float64\n",
            " 3   3       100 non-null    float64\n",
            " 4   4       100 non-null    float64\n",
            " 5   5       100 non-null    float64\n",
            " 6   6       100 non-null    float64\n",
            " 7   7       100 non-null    float64\n",
            " 8   8       100 non-null    float64\n",
            " 9   9       100 non-null    float64\n",
            "dtypes: float64(10)\n",
            "memory usage: 7.9 KB\n"
          ],
          "name": "stdout"
        }
      ]
    },
    {
      "cell_type": "code",
      "metadata": {
        "id": "V3b_7CWjgQTi",
        "colab_type": "code",
        "colab": {}
      },
      "source": [
        "def random_missing(target_df,column):\n",
        "  \"\"\"\n",
        "  Input   target_df : Dataframe, \n",
        "          column : Str  Column that you'd like to missing randomly\n",
        "  \n",
        "  Output  Dataframe that missing randomly\n",
        "  \"\"\"\n",
        "  target_index = np.random.choice(target_df.index)\n",
        "  target_df.loc[target_index, column] = None"
      ],
      "execution_count": 17,
      "outputs": []
    },
    {
      "cell_type": "code",
      "metadata": {
        "id": "_KXwowM8jPba",
        "colab_type": "code",
        "colab": {}
      },
      "source": [
        "for i in range(30):\n",
        "  random_missing(sample_dataset,\"3\")"
      ],
      "execution_count": 23,
      "outputs": []
    },
    {
      "cell_type": "code",
      "metadata": {
        "id": "YCsyEoJ5jjVL",
        "colab_type": "code",
        "colab": {
          "base_uri": "https://localhost:8080/",
          "height": 221
        },
        "outputId": "be399407-6f97-47d4-e9c7-76ec967a1945"
      },
      "source": [
        "sample_dataset.isnull().sum()"
      ],
      "execution_count": 24,
      "outputs": [
        {
          "output_type": "execute_result",
          "data": {
            "text/plain": [
              "0      0\n",
              "1      0\n",
              "2      0\n",
              "3      0\n",
              "4      0\n",
              "5      0\n",
              "6      0\n",
              "7      0\n",
              "8      0\n",
              "9      0\n",
              "3    100\n",
              "dtype: int64"
            ]
          },
          "metadata": {
            "tags": []
          },
          "execution_count": 24
        }
      ]
    },
    {
      "cell_type": "code",
      "metadata": {
        "id": "GII0hBxSjkxS",
        "colab_type": "code",
        "colab": {
          "base_uri": "https://localhost:8080/",
          "height": 323
        },
        "outputId": "10d2faaa-26b9-4d27-b2bc-145d930916b2"
      },
      "source": [
        "sample_dataset.info()"
      ],
      "execution_count": 25,
      "outputs": [
        {
          "output_type": "stream",
          "text": [
            "<class 'pandas.core.frame.DataFrame'>\n",
            "RangeIndex: 100 entries, 0 to 99\n",
            "Data columns (total 11 columns):\n",
            " #   Column  Non-Null Count  Dtype  \n",
            "---  ------  --------------  -----  \n",
            " 0   0       100 non-null    float64\n",
            " 1   1       100 non-null    float64\n",
            " 2   2       100 non-null    float64\n",
            " 3   3       100 non-null    float64\n",
            " 4   4       100 non-null    float64\n",
            " 5   5       100 non-null    float64\n",
            " 6   6       100 non-null    float64\n",
            " 7   7       100 non-null    float64\n",
            " 8   8       100 non-null    float64\n",
            " 9   9       100 non-null    float64\n",
            " 10  3       0 non-null      float64\n",
            "dtypes: float64(11)\n",
            "memory usage: 8.7 KB\n"
          ],
          "name": "stdout"
        }
      ]
    },
    {
      "cell_type": "code",
      "metadata": {
        "id": "7lrHY7DajtXt",
        "colab_type": "code",
        "colab": {
          "base_uri": "https://localhost:8080/",
          "height": 419
        },
        "outputId": "20b3645d-832f-455b-b5e2-b9c736dc52b2"
      },
      "source": [
        "sample_dataset"
      ],
      "execution_count": 26,
      "outputs": [
        {
          "output_type": "execute_result",
          "data": {
            "text/html": [
              "<div>\n",
              "<style scoped>\n",
              "    .dataframe tbody tr th:only-of-type {\n",
              "        vertical-align: middle;\n",
              "    }\n",
              "\n",
              "    .dataframe tbody tr th {\n",
              "        vertical-align: top;\n",
              "    }\n",
              "\n",
              "    .dataframe thead th {\n",
              "        text-align: right;\n",
              "    }\n",
              "</style>\n",
              "<table border=\"1\" class=\"dataframe\">\n",
              "  <thead>\n",
              "    <tr style=\"text-align: right;\">\n",
              "      <th></th>\n",
              "      <th>0</th>\n",
              "      <th>1</th>\n",
              "      <th>2</th>\n",
              "      <th>3</th>\n",
              "      <th>4</th>\n",
              "      <th>5</th>\n",
              "      <th>6</th>\n",
              "      <th>7</th>\n",
              "      <th>8</th>\n",
              "      <th>9</th>\n",
              "      <th>3</th>\n",
              "    </tr>\n",
              "  </thead>\n",
              "  <tbody>\n",
              "    <tr>\n",
              "      <th>0</th>\n",
              "      <td>0.150268</td>\n",
              "      <td>0.249157</td>\n",
              "      <td>0.933700</td>\n",
              "      <td>0.934576</td>\n",
              "      <td>0.285725</td>\n",
              "      <td>0.555560</td>\n",
              "      <td>0.179889</td>\n",
              "      <td>0.220616</td>\n",
              "      <td>0.884208</td>\n",
              "      <td>0.094098</td>\n",
              "      <td>NaN</td>\n",
              "    </tr>\n",
              "    <tr>\n",
              "      <th>1</th>\n",
              "      <td>0.218528</td>\n",
              "      <td>0.988131</td>\n",
              "      <td>0.191627</td>\n",
              "      <td>0.039010</td>\n",
              "      <td>0.724356</td>\n",
              "      <td>0.435654</td>\n",
              "      <td>0.012935</td>\n",
              "      <td>0.849161</td>\n",
              "      <td>0.435238</td>\n",
              "      <td>0.224529</td>\n",
              "      <td>NaN</td>\n",
              "    </tr>\n",
              "    <tr>\n",
              "      <th>2</th>\n",
              "      <td>0.072940</td>\n",
              "      <td>0.439383</td>\n",
              "      <td>0.905809</td>\n",
              "      <td>0.325675</td>\n",
              "      <td>0.375242</td>\n",
              "      <td>0.044002</td>\n",
              "      <td>0.168632</td>\n",
              "      <td>0.368746</td>\n",
              "      <td>0.596844</td>\n",
              "      <td>0.569198</td>\n",
              "      <td>NaN</td>\n",
              "    </tr>\n",
              "    <tr>\n",
              "      <th>3</th>\n",
              "      <td>0.481135</td>\n",
              "      <td>0.358779</td>\n",
              "      <td>0.773618</td>\n",
              "      <td>0.849891</td>\n",
              "      <td>0.809283</td>\n",
              "      <td>0.537631</td>\n",
              "      <td>0.615709</td>\n",
              "      <td>0.616066</td>\n",
              "      <td>0.747771</td>\n",
              "      <td>0.639330</td>\n",
              "      <td>NaN</td>\n",
              "    </tr>\n",
              "    <tr>\n",
              "      <th>4</th>\n",
              "      <td>0.025706</td>\n",
              "      <td>0.218418</td>\n",
              "      <td>0.584297</td>\n",
              "      <td>0.165929</td>\n",
              "      <td>0.828377</td>\n",
              "      <td>0.400150</td>\n",
              "      <td>0.085631</td>\n",
              "      <td>0.684086</td>\n",
              "      <td>0.797175</td>\n",
              "      <td>0.083513</td>\n",
              "      <td>NaN</td>\n",
              "    </tr>\n",
              "    <tr>\n",
              "      <th>...</th>\n",
              "      <td>...</td>\n",
              "      <td>...</td>\n",
              "      <td>...</td>\n",
              "      <td>...</td>\n",
              "      <td>...</td>\n",
              "      <td>...</td>\n",
              "      <td>...</td>\n",
              "      <td>...</td>\n",
              "      <td>...</td>\n",
              "      <td>...</td>\n",
              "      <td>...</td>\n",
              "    </tr>\n",
              "    <tr>\n",
              "      <th>95</th>\n",
              "      <td>0.165317</td>\n",
              "      <td>0.539864</td>\n",
              "      <td>0.925558</td>\n",
              "      <td>0.274082</td>\n",
              "      <td>0.127637</td>\n",
              "      <td>0.087228</td>\n",
              "      <td>0.154269</td>\n",
              "      <td>0.315147</td>\n",
              "      <td>0.902261</td>\n",
              "      <td>0.359460</td>\n",
              "      <td>NaN</td>\n",
              "    </tr>\n",
              "    <tr>\n",
              "      <th>96</th>\n",
              "      <td>0.462735</td>\n",
              "      <td>0.557534</td>\n",
              "      <td>0.755503</td>\n",
              "      <td>0.511946</td>\n",
              "      <td>0.891413</td>\n",
              "      <td>0.119981</td>\n",
              "      <td>0.318197</td>\n",
              "      <td>0.434897</td>\n",
              "      <td>0.165720</td>\n",
              "      <td>0.428497</td>\n",
              "      <td>NaN</td>\n",
              "    </tr>\n",
              "    <tr>\n",
              "      <th>97</th>\n",
              "      <td>0.675582</td>\n",
              "      <td>0.909829</td>\n",
              "      <td>0.215981</td>\n",
              "      <td>0.931760</td>\n",
              "      <td>0.069444</td>\n",
              "      <td>0.725455</td>\n",
              "      <td>0.781749</td>\n",
              "      <td>0.647697</td>\n",
              "      <td>0.225331</td>\n",
              "      <td>0.870649</td>\n",
              "      <td>NaN</td>\n",
              "    </tr>\n",
              "    <tr>\n",
              "      <th>98</th>\n",
              "      <td>0.980045</td>\n",
              "      <td>0.189536</td>\n",
              "      <td>0.426638</td>\n",
              "      <td>0.388599</td>\n",
              "      <td>0.749194</td>\n",
              "      <td>0.249427</td>\n",
              "      <td>0.939887</td>\n",
              "      <td>0.562065</td>\n",
              "      <td>0.936167</td>\n",
              "      <td>0.694867</td>\n",
              "      <td>NaN</td>\n",
              "    </tr>\n",
              "    <tr>\n",
              "      <th>99</th>\n",
              "      <td>0.350778</td>\n",
              "      <td>0.557362</td>\n",
              "      <td>0.716416</td>\n",
              "      <td>0.104874</td>\n",
              "      <td>0.805023</td>\n",
              "      <td>0.439418</td>\n",
              "      <td>0.555348</td>\n",
              "      <td>0.378132</td>\n",
              "      <td>0.259113</td>\n",
              "      <td>0.896706</td>\n",
              "      <td>NaN</td>\n",
              "    </tr>\n",
              "  </tbody>\n",
              "</table>\n",
              "<p>100 rows × 11 columns</p>\n",
              "</div>"
            ],
            "text/plain": [
              "           0         1         2         3  ...         7         8         9   3\n",
              "0   0.150268  0.249157  0.933700  0.934576  ...  0.220616  0.884208  0.094098 NaN\n",
              "1   0.218528  0.988131  0.191627  0.039010  ...  0.849161  0.435238  0.224529 NaN\n",
              "2   0.072940  0.439383  0.905809  0.325675  ...  0.368746  0.596844  0.569198 NaN\n",
              "3   0.481135  0.358779  0.773618  0.849891  ...  0.616066  0.747771  0.639330 NaN\n",
              "4   0.025706  0.218418  0.584297  0.165929  ...  0.684086  0.797175  0.083513 NaN\n",
              "..       ...       ...       ...       ...  ...       ...       ...       ...  ..\n",
              "95  0.165317  0.539864  0.925558  0.274082  ...  0.315147  0.902261  0.359460 NaN\n",
              "96  0.462735  0.557534  0.755503  0.511946  ...  0.434897  0.165720  0.428497 NaN\n",
              "97  0.675582  0.909829  0.215981  0.931760  ...  0.647697  0.225331  0.870649 NaN\n",
              "98  0.980045  0.189536  0.426638  0.388599  ...  0.562065  0.936167  0.694867 NaN\n",
              "99  0.350778  0.557362  0.716416  0.104874  ...  0.378132  0.259113  0.896706 NaN\n",
              "\n",
              "[100 rows x 11 columns]"
            ]
          },
          "metadata": {
            "tags": []
          },
          "execution_count": 26
        }
      ]
    },
    {
      "cell_type": "code",
      "metadata": {
        "id": "Tjm9FrUzkUpA",
        "colab_type": "code",
        "colab": {}
      },
      "source": [
        ""
      ],
      "execution_count": null,
      "outputs": []
    }
  ]
}