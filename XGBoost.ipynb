{
  "nbformat": 4,
  "nbformat_minor": 0,
  "metadata": {
    "colab": {
      "name": "XGBoost.ipynb",
      "provenance": [],
      "collapsed_sections": [],
      "include_colab_link": true
    },
    "kernelspec": {
      "name": "python3",
      "display_name": "Python 3"
    }
  },
  "cells": [
    {
      "cell_type": "markdown",
      "metadata": {
        "id": "view-in-github",
        "colab_type": "text"
      },
      "source": [
        "<a href=\"https://colab.research.google.com/github/YaCpotato/python/blob/master/XGBoost.ipynb\" target=\"_parent\"><img src=\"https://colab.research.google.com/assets/colab-badge.svg\" alt=\"Open In Colab\"/></a>"
      ]
    },
    {
      "cell_type": "markdown",
      "metadata": {
        "id": "xS4fJZEwr4hi",
        "colab_type": "text"
      },
      "source": [
        "やること  \n",
        "* XGBoost理論調査\n",
        "* LightGBM CatBoostとの比較"
      ]
    },
    {
      "cell_type": "code",
      "metadata": {
        "id": "25b8vhxSTaET",
        "colab_type": "code",
        "colab": {}
      },
      "source": [
        "from google.colab import drive\n",
        "drive.mount('/content/drive')"
      ],
      "execution_count": 0,
      "outputs": []
    },
    {
      "cell_type": "code",
      "metadata": {
        "id": "mptyGY4BVaT6",
        "colab_type": "code",
        "colab": {}
      },
      "source": [
        "%cd drive/'My Drive'/'Colab Notebooks'/"
      ],
      "execution_count": 0,
      "outputs": []
    },
    {
      "cell_type": "code",
      "metadata": {
        "id": "ttgqpa1EhQ-6",
        "colab_type": "code",
        "colab": {}
      },
      "source": [
        "import pandas as pd\n",
        "import io\n",
        "train = pd.read_csv('./poker-hand-training-true.csv', header=None)\n",
        "test = pd.read_csv('./poker-hand-testing.csv', header=None)\n",
        "train.head()\n",
        "test.head()"
      ],
      "execution_count": 0,
      "outputs": []
    },
    {
      "cell_type": "markdown",
      "metadata": {
        "id": "CSHvDl1Lo-vO",
        "colab_type": "text"
      },
      "source": [
        "こういうデータに対して(どういうデータか説明もできない)するべき前処理が未だうかばない筆者です。アドバイス求む。  \n",
        "PandasのDataFrameも使おうとしたがまだ機械学習のいちプロセスで使い通せない段階"
      ]
    },
    {
      "cell_type": "markdown",
      "metadata": {
        "id": "3AWFyjLzpWEJ",
        "colab_type": "text"
      },
      "source": [
        "# データを整形する\n",
        "* ラベルデータの取り出し(正確には代入してから削除してる)\n",
        "* 学習データ、テストデータの分割"
      ]
    },
    {
      "cell_type": "code",
      "metadata": {
        "id": "cc4-7RaG3dFV",
        "colab_type": "code",
        "outputId": "ae0b69b1-f8b8-41d2-b410-90eab9fbb55c",
        "colab": {
          "base_uri": "https://localhost:8080/",
          "height": 136
        }
      },
      "source": [
        "from sklearn import preprocessing\n",
        "from keras.utils import np_utils\n",
        "from sklearn.model_selection import train_test_split\n",
        "from tensorflow.keras.utils import normalize\n",
        "\n",
        "train_Y = train[:][10]\n",
        "test_Y = test[:][10]\n",
        "\n",
        "X_train, X_test, = train_test_split(train,train_size=0.7)\n",
        "Y_train,Y_test = train_test_split(train_Y,train_size=0.7)\n",
        "print(X_train.shape,Y_train.shape,X_test.shape,Y_test.shape)\n",
        "\n",
        "X_train.drop(10,axis=1,inplace=True)\n",
        "X_test.drop(10,axis=1,inplace=True)\n",
        "print(X_train.shape,Y_train.shape,X_test.shape,Y_test.shape)"
      ],
      "execution_count": 0,
      "outputs": [
        {
          "output_type": "stream",
          "text": [
            "(17507, 11) (17507,) (7503, 11) (7503,)\n",
            "(17507, 10) (17507,) (7503, 10) (7503,)\n"
          ],
          "name": "stdout"
        },
        {
          "output_type": "stream",
          "text": [
            "/usr/local/lib/python3.6/dist-packages/pandas/core/frame.py:4117: SettingWithCopyWarning: \n",
            "A value is trying to be set on a copy of a slice from a DataFrame\n",
            "\n",
            "See the caveats in the documentation: http://pandas.pydata.org/pandas-docs/stable/user_guide/indexing.html#returning-a-view-versus-a-copy\n",
            "  errors=errors,\n"
          ],
          "name": "stderr"
        }
      ]
    },
    {
      "cell_type": "code",
      "metadata": {
        "id": "xv9zm55n_zKS",
        "colab_type": "code",
        "colab": {}
      },
      "source": [
        "import xgboost as xgb\n",
        "from sklearn.model_selection import GridSearchCV"
      ],
      "execution_count": 0,
      "outputs": []
    },
    {
      "cell_type": "code",
      "metadata": {
        "id": "1I8wXxUA_zfb",
        "colab_type": "code",
        "colab": {}
      },
      "source": [
        "clf = xgb.XGBClassifier()"
      ],
      "execution_count": 0,
      "outputs": []
    },
    {
      "cell_type": "markdown",
      "metadata": {
        "id": "oF1JoLiH1qmb",
        "colab_type": "text"
      },
      "source": [
        "@param max_depth: 決定木の葉の数"
      ]
    },
    {
      "cell_type": "code",
      "metadata": {
        "id": "BN2I5RWz_7fO",
        "colab_type": "code",
        "colab": {}
      },
      "source": [
        "clf_cv = GridSearchCV(clf, {'max_depth': [2,4,6], 'n_estimators': [50,100,200]}, verbose=1)"
      ],
      "execution_count": 0,
      "outputs": []
    },
    {
      "cell_type": "code",
      "metadata": {
        "id": "MY4GVOvl_-Lm",
        "colab_type": "code",
        "outputId": "50a0314f-2ee1-4a3a-fe7e-3145d147447e",
        "colab": {
          "base_uri": "https://localhost:8080/",
          "height": 445
        }
      },
      "source": [
        "%%time\n",
        "clf_cv.fit(X_train, Y_train,verbose=1)\n",
        "# 改めて最適パラメータで学習\n",
        "clf = xgb.XGBClassifier(**clf_cv.best_params_)\n",
        "clf.fit(X_train, Y_train,verbose=1)"
      ],
      "execution_count": 0,
      "outputs": [
        {
          "output_type": "stream",
          "text": [
            "(17507, 10) (17507,)\n",
            "Fitting 3 folds for each of 9 candidates, totalling 27 fits\n"
          ],
          "name": "stdout"
        },
        {
          "output_type": "stream",
          "text": [
            "/usr/local/lib/python3.6/dist-packages/sklearn/model_selection/_split.py:1978: FutureWarning: The default value of cv will change from 3 to 5 in version 0.22. Specify it explicitly to silence this warning.\n",
            "  warnings.warn(CV_WARNING, FutureWarning)\n",
            "/usr/local/lib/python3.6/dist-packages/sklearn/model_selection/_split.py:657: Warning: The least populated class in y has only 2 members, which is too few. The minimum number of members in any class cannot be less than n_splits=3.\n",
            "  % (min_groups, self.n_splits)), Warning)\n",
            "[Parallel(n_jobs=1)]: Using backend SequentialBackend with 1 concurrent workers.\n",
            "[Parallel(n_jobs=1)]: Done  27 out of  27 | elapsed:  2.7min finished\n"
          ],
          "name": "stderr"
        },
        {
          "output_type": "execute_result",
          "data": {
            "text/plain": [
              "GridSearchCV(cv='warn', error_score='raise-deprecating',\n",
              "             estimator=XGBClassifier(base_score=0.5, booster='gbtree',\n",
              "                                     colsample_bylevel=1, colsample_bynode=1,\n",
              "                                     colsample_bytree=1, gamma=0,\n",
              "                                     learning_rate=0.1, max_delta_step=0,\n",
              "                                     max_depth=3, min_child_weight=1,\n",
              "                                     missing=None, n_estimators=100, n_jobs=1,\n",
              "                                     nthread=None, objective='binary:logistic',\n",
              "                                     random_state=0, reg_alpha=0, reg_lambda=1,\n",
              "                                     scale_pos_weight=1, seed=None, silent=None,\n",
              "                                     subsample=1, verbosity=1),\n",
              "             iid='warn', n_jobs=None,\n",
              "             param_grid={'max_depth': [2, 4, 6],\n",
              "                         'n_estimators': [50, 100, 200]},\n",
              "             pre_dispatch='2*n_jobs', refit=True, return_train_score=False,\n",
              "             scoring=None, verbose=1)"
            ]
          },
          "metadata": {
            "tags": []
          },
          "execution_count": 39
        }
      ]
    },
    {
      "cell_type": "code",
      "metadata": {
        "id": "NzpX_Tq7Kbuv",
        "colab_type": "code",
        "outputId": "6c64d05f-9445-4416-ab9e-e1502e21fb45",
        "colab": {
          "base_uri": "https://localhost:8080/",
          "height": 496
        }
      },
      "source": [
        "# 学習モデルの評価\n",
        "from sklearn.metrics import confusion_matrix,classification_report\n",
        "pred = clf.predict(X_test)\n",
        "print (confusion_matrix(Y_test, pred))\n",
        "print (classification_report(Y_test, pred))"
      ],
      "execution_count": 0,
      "outputs": [
        {
          "output_type": "stream",
          "text": [
            "[[3221  591    1    0    0    0    0    0    0]\n",
            " [1147 1948   12    2    1    0    0    0    0]\n",
            " [  28  315   11    1    0    0    0    0    0]\n",
            " [   5  145    1    9    0    0    0    0    0]\n",
            " [   2   29    0    0    0    0    0    0    0]\n",
            " [  16    1    0    0    0    1    0    0    0]\n",
            " [   0    9    0    1    0    0    0    0    0]\n",
            " [   0    3    0    0    0    0    0    0    0]\n",
            " [   1    1    0    0    0    1    0    0    0]]\n",
            "              precision    recall  f1-score   support\n",
            "\n",
            "           0       0.73      0.84      0.78      3813\n",
            "           1       0.64      0.63      0.63      3110\n",
            "           2       0.44      0.03      0.06       355\n",
            "           3       0.69      0.06      0.10       160\n",
            "           4       0.00      0.00      0.00        31\n",
            "           5       0.50      0.06      0.10        18\n",
            "           6       0.00      0.00      0.00        10\n",
            "           7       0.00      0.00      0.00         3\n",
            "           9       0.00      0.00      0.00         3\n",
            "\n",
            "    accuracy                           0.69      7503\n",
            "   macro avg       0.33      0.18      0.19      7503\n",
            "weighted avg       0.67      0.69      0.67      7503\n",
            "\n"
          ],
          "name": "stdout"
        },
        {
          "output_type": "stream",
          "text": [
            "/usr/local/lib/python3.6/dist-packages/sklearn/metrics/classification.py:1437: UndefinedMetricWarning: Precision and F-score are ill-defined and being set to 0.0 in labels with no predicted samples.\n",
            "  'precision', 'predicted', average, warn_for)\n"
          ],
          "name": "stderr"
        }
      ]
    }
  ]
}