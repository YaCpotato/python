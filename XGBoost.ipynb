{
  "nbformat": 4,
  "nbformat_minor": 0,
  "metadata": {
    "colab": {
      "name": "XGBoost.ipynb",
      "provenance": [],
      "collapsed_sections": [],
      "include_colab_link": true
    },
    "kernelspec": {
      "name": "python3",
      "display_name": "Python 3"
    }
  },
  "cells": [
    {
      "cell_type": "markdown",
      "metadata": {
        "id": "view-in-github",
        "colab_type": "text"
      },
      "source": [
        "<a href=\"https://colab.research.google.com/github/YaCpotato/python/blob/master/XGBoost.ipynb\" target=\"_parent\"><img src=\"https://colab.research.google.com/assets/colab-badge.svg\" alt=\"Open In Colab\"/></a>"
      ]
    },
    {
      "cell_type": "markdown",
      "metadata": {
        "id": "xS4fJZEwr4hi",
        "colab_type": "text"
      },
      "source": [
        "やること  \n",
        "* XGBoost理論調査\n",
        "* LightGBM CatBoostとの比較"
      ]
    },
    {
      "cell_type": "code",
      "metadata": {
        "id": "25b8vhxSTaET",
        "colab_type": "code",
        "colab": {}
      },
      "source": [
        "from google.colab import drive\n",
        "drive.mount('/content/drive')"
      ],
      "execution_count": 0,
      "outputs": []
    },
    {
      "cell_type": "code",
      "metadata": {
        "id": "mptyGY4BVaT6",
        "colab_type": "code",
        "colab": {}
      },
      "source": [
        "%cd drive/'My Drive'/'Colab Notebooks'/"
      ],
      "execution_count": 0,
      "outputs": []
    },
    {
      "cell_type": "code",
      "metadata": {
        "id": "ttgqpa1EhQ-6",
        "colab_type": "code",
        "outputId": "5cb58c31-42e4-4fbc-8bd3-dac80310847e",
        "colab": {
          "base_uri": "https://localhost:8080/",
          "height": 204
        }
      },
      "source": [
        "import pandas as pd\n",
        "import io\n",
        "train = pd.read_csv('./poker-hand-training-true.csv', header=None)\n",
        "test = pd.read_csv('./poker-hand-testing.csv', header=None)\n",
        "train.head()\n",
        "test.head()"
      ],
      "execution_count": 3,
      "outputs": [
        {
          "output_type": "execute_result",
          "data": {
            "text/html": [
              "<div>\n",
              "<style scoped>\n",
              "    .dataframe tbody tr th:only-of-type {\n",
              "        vertical-align: middle;\n",
              "    }\n",
              "\n",
              "    .dataframe tbody tr th {\n",
              "        vertical-align: top;\n",
              "    }\n",
              "\n",
              "    .dataframe thead th {\n",
              "        text-align: right;\n",
              "    }\n",
              "</style>\n",
              "<table border=\"1\" class=\"dataframe\">\n",
              "  <thead>\n",
              "    <tr style=\"text-align: right;\">\n",
              "      <th></th>\n",
              "      <th>0</th>\n",
              "      <th>1</th>\n",
              "      <th>2</th>\n",
              "      <th>3</th>\n",
              "      <th>4</th>\n",
              "      <th>5</th>\n",
              "      <th>6</th>\n",
              "      <th>7</th>\n",
              "      <th>8</th>\n",
              "      <th>9</th>\n",
              "      <th>10</th>\n",
              "    </tr>\n",
              "  </thead>\n",
              "  <tbody>\n",
              "    <tr>\n",
              "      <th>0</th>\n",
              "      <td>1</td>\n",
              "      <td>1</td>\n",
              "      <td>1</td>\n",
              "      <td>13</td>\n",
              "      <td>2</td>\n",
              "      <td>4</td>\n",
              "      <td>2</td>\n",
              "      <td>3</td>\n",
              "      <td>1</td>\n",
              "      <td>12</td>\n",
              "      <td>0</td>\n",
              "    </tr>\n",
              "    <tr>\n",
              "      <th>1</th>\n",
              "      <td>3</td>\n",
              "      <td>12</td>\n",
              "      <td>3</td>\n",
              "      <td>2</td>\n",
              "      <td>3</td>\n",
              "      <td>11</td>\n",
              "      <td>4</td>\n",
              "      <td>5</td>\n",
              "      <td>2</td>\n",
              "      <td>5</td>\n",
              "      <td>1</td>\n",
              "    </tr>\n",
              "    <tr>\n",
              "      <th>2</th>\n",
              "      <td>1</td>\n",
              "      <td>9</td>\n",
              "      <td>4</td>\n",
              "      <td>6</td>\n",
              "      <td>1</td>\n",
              "      <td>4</td>\n",
              "      <td>3</td>\n",
              "      <td>2</td>\n",
              "      <td>3</td>\n",
              "      <td>9</td>\n",
              "      <td>1</td>\n",
              "    </tr>\n",
              "    <tr>\n",
              "      <th>3</th>\n",
              "      <td>1</td>\n",
              "      <td>4</td>\n",
              "      <td>3</td>\n",
              "      <td>13</td>\n",
              "      <td>2</td>\n",
              "      <td>13</td>\n",
              "      <td>2</td>\n",
              "      <td>1</td>\n",
              "      <td>3</td>\n",
              "      <td>6</td>\n",
              "      <td>1</td>\n",
              "    </tr>\n",
              "    <tr>\n",
              "      <th>4</th>\n",
              "      <td>3</td>\n",
              "      <td>10</td>\n",
              "      <td>2</td>\n",
              "      <td>7</td>\n",
              "      <td>1</td>\n",
              "      <td>2</td>\n",
              "      <td>2</td>\n",
              "      <td>11</td>\n",
              "      <td>4</td>\n",
              "      <td>9</td>\n",
              "      <td>0</td>\n",
              "    </tr>\n",
              "  </tbody>\n",
              "</table>\n",
              "</div>"
            ],
            "text/plain": [
              "   0   1   2   3   4   5   6   7   8   9   10\n",
              "0   1   1   1  13   2   4   2   3   1  12   0\n",
              "1   3  12   3   2   3  11   4   5   2   5   1\n",
              "2   1   9   4   6   1   4   3   2   3   9   1\n",
              "3   1   4   3  13   2  13   2   1   3   6   1\n",
              "4   3  10   2   7   1   2   2  11   4   9   0"
            ]
          },
          "metadata": {
            "tags": []
          },
          "execution_count": 3
        }
      ]
    },
    {
      "cell_type": "markdown",
      "metadata": {
        "id": "CSHvDl1Lo-vO",
        "colab_type": "text"
      },
      "source": [
        "こういうデータに対して(どういうデータか説明もできない)するべき前処理が未だうかばない筆者です。アドバイス求む。  \n",
        "PandasのDataFrameも使おうとしたがまだ機械学習のいちプロセスで使い通せない段階"
      ]
    },
    {
      "cell_type": "markdown",
      "metadata": {
        "id": "3AWFyjLzpWEJ",
        "colab_type": "text"
      },
      "source": [
        "# データを整形する\n",
        "* ラベルデータの取り出し(正確には代入してから削除してる)\n",
        "* 学習データ、テストデータの分割"
      ]
    },
    {
      "cell_type": "code",
      "metadata": {
        "id": "cc4-7RaG3dFV",
        "colab_type": "code",
        "outputId": "7ae69f40-a059-4475-af86-0c3d5c199ba0",
        "colab": {
          "base_uri": "https://localhost:8080/",
          "height": 199
        }
      },
      "source": [
        "from sklearn import preprocessing\n",
        "from keras.utils import np_utils\n",
        "from sklearn.model_selection import train_test_split\n",
        "from tensorflow.keras.utils import normalize\n",
        "\n",
        "train_Y = train[:][10]\n",
        "test_Y = test[:][10]\n",
        "\n",
        "X_train, X_test, = train_test_split(train,train_size=0.7)\n",
        "Y_train,Y_test = train_test_split(train_Y,train_size=0.7)\n",
        "print(X_train.shape,Y_train.shape,X_test.shape,Y_test.shape)\n",
        "\n",
        "X_train.drop(10,axis=1,inplace=True)\n",
        "X_test.drop(10,axis=1,inplace=True)\n",
        "print(X_train.shape,Y_train.shape,X_test.shape,Y_test.shape)"
      ],
      "execution_count": 4,
      "outputs": [
        {
          "output_type": "stream",
          "text": [
            "Using TensorFlow backend.\n"
          ],
          "name": "stderr"
        },
        {
          "output_type": "display_data",
          "data": {
            "text/html": [
              "<p style=\"color: red;\">\n",
              "The default version of TensorFlow in Colab will soon switch to TensorFlow 2.x.<br>\n",
              "We recommend you <a href=\"https://www.tensorflow.org/guide/migrate\" target=\"_blank\">upgrade</a> now \n",
              "or ensure your notebook will continue to use TensorFlow 1.x via the <code>%tensorflow_version 1.x</code> magic:\n",
              "<a href=\"https://colab.research.google.com/notebooks/tensorflow_version.ipynb\" target=\"_blank\">more info</a>.</p>\n"
            ],
            "text/plain": [
              "<IPython.core.display.HTML object>"
            ]
          },
          "metadata": {
            "tags": []
          }
        },
        {
          "output_type": "stream",
          "text": [
            "(17507, 11) (17507,) (7503, 11) (7503,)\n",
            "(17507, 10) (17507,) (7503, 10) (7503,)\n"
          ],
          "name": "stdout"
        },
        {
          "output_type": "stream",
          "text": [
            "/usr/local/lib/python3.6/dist-packages/pandas/core/frame.py:4117: SettingWithCopyWarning: \n",
            "A value is trying to be set on a copy of a slice from a DataFrame\n",
            "\n",
            "See the caveats in the documentation: http://pandas.pydata.org/pandas-docs/stable/user_guide/indexing.html#returning-a-view-versus-a-copy\n",
            "  errors=errors,\n"
          ],
          "name": "stderr"
        }
      ]
    },
    {
      "cell_type": "markdown",
      "metadata": {
        "id": "U8hD03Gqnf9p",
        "colab_type": "text"
      },
      "source": [
        "## 学習データからValidation用にデータを取り出す"
      ]
    },
    {
      "cell_type": "code",
      "metadata": {
        "id": "DiXf7_gtnfOT",
        "colab_type": "code",
        "colab": {
          "base_uri": "https://localhost:8080/",
          "height": 34
        },
        "outputId": "2ccf2325-d1bc-4a7b-f1e8-da8ea092d783"
      },
      "source": [
        "import numpy as np\n",
        "X_train = X_train.astype('float32')\n",
        "X_test = X_test.astype('float32')\n",
        "Y_train = Y_train.astype('float32')\n",
        "Y_test = Y_test.astype('float32')\n",
        "\n",
        "X_train, X_val,= train_test_split(X_train,train_size=0.7)\n",
        "Y_train, Y_val = train_test_split(Y_train,train_size=0.7)\n",
        "print(X_train.shape,Y_train.shape,X_val.shape,Y_val.shape)"
      ],
      "execution_count": 5,
      "outputs": [
        {
          "output_type": "stream",
          "text": [
            "(12254, 10) (12254,) (5253, 10) (5253,)\n"
          ],
          "name": "stdout"
        }
      ]
    },
    {
      "cell_type": "markdown",
      "metadata": {
        "id": "amaTGIAGnneg",
        "colab_type": "text"
      },
      "source": [
        "## XGBoost　モデルを定義"
      ]
    },
    {
      "cell_type": "code",
      "metadata": {
        "id": "xv9zm55n_zKS",
        "colab_type": "code",
        "colab": {}
      },
      "source": [
        "import xgboost as xgb\n",
        "from sklearn.model_selection import GridSearchCV"
      ],
      "execution_count": 0,
      "outputs": []
    },
    {
      "cell_type": "code",
      "metadata": {
        "id": "1I8wXxUA_zfb",
        "colab_type": "code",
        "colab": {}
      },
      "source": [
        "clf = xgb.XGBClassifier()"
      ],
      "execution_count": 0,
      "outputs": []
    },
    {
      "cell_type": "markdown",
      "metadata": {
        "id": "oF1JoLiH1qmb",
        "colab_type": "text"
      },
      "source": [
        "@param max_depth: 決定木の葉の数"
      ]
    },
    {
      "cell_type": "code",
      "metadata": {
        "id": "BN2I5RWz_7fO",
        "colab_type": "code",
        "colab": {}
      },
      "source": [
        "clf_cv = GridSearchCV(clf, {'max_depth': [2,4,6], 'n_estimators': [50,100,200]}, verbose=1)"
      ],
      "execution_count": 0,
      "outputs": []
    },
    {
      "cell_type": "code",
      "metadata": {
        "id": "MY4GVOvl_-Lm",
        "colab_type": "code",
        "outputId": "17ee212d-3999-4385-a321-13aedba710cd",
        "colab": {
          "base_uri": "https://localhost:8080/",
          "height": 1000
        }
      },
      "source": [
        "%%time\n",
        "clf_cv.fit(X_train, Y_train,verbose=1)\n",
        "# 改めて最適パラメータで学習\n",
        "clf = xgb.XGBClassifier(**clf_cv.best_params_)\n",
        "clf.fit(X_train, Y_train,\n",
        "        early_stopping_rounds=100,\n",
        "        eval_set=[[X_val, Y_val]],\n",
        "        verbose=1)"
      ],
      "execution_count": 11,
      "outputs": [
        {
          "output_type": "stream",
          "text": [
            "/usr/local/lib/python3.6/dist-packages/sklearn/model_selection/_split.py:1978: FutureWarning: The default value of cv will change from 3 to 5 in version 0.22. Specify it explicitly to silence this warning.\n",
            "  warnings.warn(CV_WARNING, FutureWarning)\n",
            "/usr/local/lib/python3.6/dist-packages/sklearn/model_selection/_split.py:657: Warning: The least populated class in y has only 2 members, which is too few. The minimum number of members in any class cannot be less than n_splits=3.\n",
            "  % (min_groups, self.n_splits)), Warning)\n",
            "[Parallel(n_jobs=1)]: Using backend SequentialBackend with 1 concurrent workers.\n"
          ],
          "name": "stderr"
        },
        {
          "output_type": "stream",
          "text": [
            "Fitting 3 folds for each of 9 candidates, totalling 27 fits\n"
          ],
          "name": "stdout"
        },
        {
          "output_type": "stream",
          "text": [
            "[Parallel(n_jobs=1)]: Done  27 out of  27 | elapsed:  1.9min finished\n"
          ],
          "name": "stderr"
        },
        {
          "output_type": "stream",
          "text": [
            "[0]\tvalidation_0-merror:0.505045\n",
            "Will train until validation_0-merror hasn't improved in 100 rounds.\n",
            "[1]\tvalidation_0-merror:0.505045\n",
            "[2]\tvalidation_0-merror:0.505045\n",
            "[3]\tvalidation_0-merror:0.505045\n",
            "[4]\tvalidation_0-merror:0.505045\n",
            "[5]\tvalidation_0-merror:0.505045\n",
            "[6]\tvalidation_0-merror:0.505045\n",
            "[7]\tvalidation_0-merror:0.505045\n",
            "[8]\tvalidation_0-merror:0.505045\n",
            "[9]\tvalidation_0-merror:0.505045\n",
            "[10]\tvalidation_0-merror:0.505045\n",
            "[11]\tvalidation_0-merror:0.505045\n",
            "[12]\tvalidation_0-merror:0.505045\n",
            "[13]\tvalidation_0-merror:0.505045\n",
            "[14]\tvalidation_0-merror:0.505045\n",
            "[15]\tvalidation_0-merror:0.505045\n",
            "[16]\tvalidation_0-merror:0.505045\n",
            "[17]\tvalidation_0-merror:0.505045\n",
            "[18]\tvalidation_0-merror:0.505045\n",
            "[19]\tvalidation_0-merror:0.505045\n",
            "[20]\tvalidation_0-merror:0.504854\n",
            "[21]\tvalidation_0-merror:0.504854\n",
            "[22]\tvalidation_0-merror:0.504854\n",
            "[23]\tvalidation_0-merror:0.504854\n",
            "[24]\tvalidation_0-merror:0.505045\n",
            "[25]\tvalidation_0-merror:0.504854\n",
            "[26]\tvalidation_0-merror:0.504664\n",
            "[27]\tvalidation_0-merror:0.504474\n",
            "[28]\tvalidation_0-merror:0.504474\n",
            "[29]\tvalidation_0-merror:0.504474\n",
            "[30]\tvalidation_0-merror:0.504283\n",
            "[31]\tvalidation_0-merror:0.505425\n",
            "[32]\tvalidation_0-merror:0.505425\n",
            "[33]\tvalidation_0-merror:0.505235\n",
            "[34]\tvalidation_0-merror:0.505616\n",
            "[35]\tvalidation_0-merror:0.505616\n",
            "[36]\tvalidation_0-merror:0.505806\n",
            "[37]\tvalidation_0-merror:0.506377\n",
            "[38]\tvalidation_0-merror:0.506568\n",
            "[39]\tvalidation_0-merror:0.505425\n",
            "[40]\tvalidation_0-merror:0.505235\n",
            "[41]\tvalidation_0-merror:0.505425\n",
            "[42]\tvalidation_0-merror:0.505616\n",
            "[43]\tvalidation_0-merror:0.506568\n",
            "[44]\tvalidation_0-merror:0.506948\n",
            "[45]\tvalidation_0-merror:0.506758\n",
            "[46]\tvalidation_0-merror:0.506948\n",
            "[47]\tvalidation_0-merror:0.506187\n",
            "[48]\tvalidation_0-merror:0.506758\n",
            "[49]\tvalidation_0-merror:0.506568\n",
            "CPU times: user 1min 58s, sys: 378 ms, total: 1min 59s\n",
            "Wall time: 1min 59s\n"
          ],
          "name": "stdout"
        }
      ]
    },
    {
      "cell_type": "code",
      "metadata": {
        "id": "NzpX_Tq7Kbuv",
        "colab_type": "code",
        "outputId": "86778b23-65a0-4ce6-a8ab-58386ea55d5e",
        "colab": {
          "base_uri": "https://localhost:8080/",
          "height": 530
        }
      },
      "source": [
        "# 学習モデルの評価\n",
        "from sklearn.metrics import confusion_matrix,classification_report\n",
        "pred = clf.predict(X_test)\n",
        "print (confusion_matrix(Y_test, pred))\n",
        "print (classification_report(Y_test, pred))"
      ],
      "execution_count": 12,
      "outputs": [
        {
          "output_type": "stream",
          "text": [
            "[[3729   10    0    0    0    0    0    0    0    0]\n",
            " [3201    6    0    0    0    0    0    0    0    0]\n",
            " [ 343    1    0    0    0    0    0    0    0    0]\n",
            " [ 146    0    0    0    0    0    0    0    0    0]\n",
            " [  33    0    0    0    0    0    0    0    0    0]\n",
            " [  19    0    0    0    0    0    0    0    0    0]\n",
            " [  11    0    0    0    0    0    0    0    0    0]\n",
            " [   2    0    0    0    0    0    0    0    0    0]\n",
            " [   1    0    0    0    0    0    0    0    0    0]\n",
            " [   1    0    0    0    0    0    0    0    0    0]]\n",
            "              precision    recall  f1-score   support\n",
            "\n",
            "         0.0       0.50      1.00      0.66      3739\n",
            "         1.0       0.35      0.00      0.00      3207\n",
            "         2.0       0.00      0.00      0.00       344\n",
            "         3.0       0.00      0.00      0.00       146\n",
            "         4.0       0.00      0.00      0.00        33\n",
            "         5.0       0.00      0.00      0.00        19\n",
            "         6.0       0.00      0.00      0.00        11\n",
            "         7.0       0.00      0.00      0.00         2\n",
            "         8.0       0.00      0.00      0.00         1\n",
            "         9.0       0.00      0.00      0.00         1\n",
            "\n",
            "    accuracy                           0.50      7503\n",
            "   macro avg       0.09      0.10      0.07      7503\n",
            "weighted avg       0.40      0.50      0.33      7503\n",
            "\n"
          ],
          "name": "stdout"
        },
        {
          "output_type": "stream",
          "text": [
            "/usr/local/lib/python3.6/dist-packages/sklearn/metrics/classification.py:1437: UndefinedMetricWarning: Precision and F-score are ill-defined and being set to 0.0 in labels with no predicted samples.\n",
            "  'precision', 'predicted', average, warn_for)\n"
          ],
          "name": "stderr"
        }
      ]
    }
  ]
}