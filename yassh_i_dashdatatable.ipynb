{
  "nbformat": 4,
  "nbformat_minor": 0,
  "metadata": {
    "colab": {
      "name": "yassh_i_dashdatatable.ipynb",
      "provenance": [],
      "collapsed_sections": [],
      "authorship_tag": "ABX9TyO6Xwg7+ObEaCvL3ixNmlyJ",
      "include_colab_link": true
    },
    "kernelspec": {
      "name": "python3",
      "display_name": "Python 3"
    }
  },
  "cells": [
    {
      "cell_type": "markdown",
      "metadata": {
        "id": "view-in-github",
        "colab_type": "text"
      },
      "source": [
        "<a href=\"https://colab.research.google.com/github/YaCpotato/python/blob/master/yassh_i_dashdatatable.ipynb\" target=\"_parent\"><img src=\"https://colab.research.google.com/assets/colab-badge.svg\" alt=\"Open In Colab\"/></a>"
      ]
    },
    {
      "cell_type": "code",
      "metadata": {
        "id": "U8Xx5DCoq94b"
      },
      "source": [
        "!pip install pandas dash jupyter-dash"
      ],
      "execution_count": null,
      "outputs": []
    },
    {
      "cell_type": "code",
      "metadata": {
        "id": "UV29y-tMsAJm"
      },
      "source": [
        "from jupyter_dash import JupyterDash\n",
        "import dash\n",
        "import dash_table\n",
        "import pandas as pd\n",
        "from sklearn.datasets import load_boston"
      ],
      "execution_count": 2,
      "outputs": []
    },
    {
      "cell_type": "code",
      "metadata": {
        "id": "0-dDlcfwtFtK"
      },
      "source": [
        "app = JupyterDash()\n",
        "boston = load_boston()\n",
        "df = pd.DataFrame(boston.data, columns=boston.feature_names)\n",
        "df['MEDV'] = boston.target"
      ],
      "execution_count": 3,
      "outputs": []
    },
    {
      "cell_type": "markdown",
      "metadata": {
        "id": "bGFywKh2sEOW"
      },
      "source": [
        "## 出力してみる"
      ]
    },
    {
      "cell_type": "code",
      "metadata": {
        "colab": {
          "base_uri": "https://localhost:8080/",
          "height": 671
        },
        "id": "HkwjEQsFtSV0",
        "outputId": "ea1f2102-d0ff-4db7-a48e-df4d217466b4"
      },
      "source": [
        "app.layout = dash_table.DataTable(\n",
        "    id='table',\n",
        "    columns = [{\"name\": i, \"id\": j} for i,j in zip(df,df.columns)],\n",
        "    data=df.to_dict('records'),\n",
        ")\n",
        "\n",
        "app.run_server(mode=\"inline\")"
      ],
      "execution_count": 13,
      "outputs": [
        {
          "output_type": "display_data",
          "data": {
            "application/javascript": [
              "(async (port, path, width, height, cache, element) => {\n",
              "    if (!google.colab.kernel.accessAllowed && !cache) {\n",
              "      return;\n",
              "    }\n",
              "    element.appendChild(document.createTextNode(''));\n",
              "    const url = await google.colab.kernel.proxyPort(port, {cache});\n",
              "    const iframe = document.createElement('iframe');\n",
              "    iframe.src = url + path;\n",
              "    iframe.height = height;\n",
              "    iframe.width = width;\n",
              "    iframe.style.border = 0;\n",
              "    element.appendChild(iframe);\n",
              "  })(8050, \"/\", \"100%\", 650, false, window.element)"
            ],
            "text/plain": [
              "<IPython.core.display.Javascript object>"
            ]
          },
          "metadata": {
            "tags": []
          }
        }
      ]
    },
    {
      "cell_type": "markdown",
      "metadata": {
        "id": "4bV8GIhZsFIN"
      },
      "source": [
        "## 分析の支援になりそうな機能"
      ]
    },
    {
      "cell_type": "markdown",
      "metadata": {
        "id": "bw85mfygsIcx"
      },
      "source": [
        "### ページ機能"
      ]
    },
    {
      "cell_type": "code",
      "metadata": {
        "colab": {
          "base_uri": "https://localhost:8080/",
          "height": 671
        },
        "id": "ozDbCLl3wG16",
        "outputId": "ad16885b-adaa-46d2-9ec2-8b53dc2bc692"
      },
      "source": [
        "app.layout = dash_table.DataTable(\n",
        "    id='table',\n",
        "    columns = [{\"name\": i, \"id\": j} for i,j in zip(df,df.columns)],\n",
        "    data=df.to_dict('records'),\n",
        "    page_size = 10\n",
        ")\n",
        "\n",
        "app.run_server(mode=\"inline\")"
      ],
      "execution_count": 14,
      "outputs": [
        {
          "output_type": "display_data",
          "data": {
            "application/javascript": [
              "(async (port, path, width, height, cache, element) => {\n",
              "    if (!google.colab.kernel.accessAllowed && !cache) {\n",
              "      return;\n",
              "    }\n",
              "    element.appendChild(document.createTextNode(''));\n",
              "    const url = await google.colab.kernel.proxyPort(port, {cache});\n",
              "    const iframe = document.createElement('iframe');\n",
              "    iframe.src = url + path;\n",
              "    iframe.height = height;\n",
              "    iframe.width = width;\n",
              "    iframe.style.border = 0;\n",
              "    element.appendChild(iframe);\n",
              "  })(8050, \"/\", \"100%\", 650, false, window.element)"
            ],
            "text/plain": [
              "<IPython.core.display.Javascript object>"
            ]
          },
          "metadata": {
            "tags": []
          }
        }
      ]
    },
    {
      "cell_type": "markdown",
      "metadata": {
        "id": "KmJNSlWJsL5g"
      },
      "source": [
        "### フィルター機能"
      ]
    },
    {
      "cell_type": "code",
      "metadata": {
        "colab": {
          "base_uri": "https://localhost:8080/",
          "height": 671
        },
        "id": "_gY5xp-bsRFh",
        "outputId": "346d3dcc-44c4-4c1d-f4f1-232892239437"
      },
      "source": [
        "app.layout = dash_table.DataTable(\n",
        "    id='table',\n",
        "    columns = [{\"name\": i, \"id\": j} for i,j in zip(df,df.columns)],\n",
        "    data=df.to_dict('records'),\n",
        "    page_size = 10,\n",
        "    filter_action = 'native'\n",
        ")\n",
        "\n",
        "app.run_server(mode=\"inline\")"
      ],
      "execution_count": 15,
      "outputs": [
        {
          "output_type": "display_data",
          "data": {
            "application/javascript": [
              "(async (port, path, width, height, cache, element) => {\n",
              "    if (!google.colab.kernel.accessAllowed && !cache) {\n",
              "      return;\n",
              "    }\n",
              "    element.appendChild(document.createTextNode(''));\n",
              "    const url = await google.colab.kernel.proxyPort(port, {cache});\n",
              "    const iframe = document.createElement('iframe');\n",
              "    iframe.src = url + path;\n",
              "    iframe.height = height;\n",
              "    iframe.width = width;\n",
              "    iframe.style.border = 0;\n",
              "    element.appendChild(iframe);\n",
              "  })(8050, \"/\", \"100%\", 650, false, window.element)"
            ],
            "text/plain": [
              "<IPython.core.display.Javascript object>"
            ]
          },
          "metadata": {
            "tags": []
          }
        }
      ]
    },
    {
      "cell_type": "markdown",
      "metadata": {
        "id": "jMSYejXCynSF"
      },
      "source": [
        "### ソート 機能"
      ]
    },
    {
      "cell_type": "code",
      "metadata": {
        "colab": {
          "base_uri": "https://localhost:8080/",
          "height": 671
        },
        "id": "cGYrAmsMyo9x",
        "outputId": "8547c119-c61f-4f7b-f545-d54a10e4fee8"
      },
      "source": [
        "app.layout = dash_table.DataTable(\n",
        "    id='table',\n",
        "    columns = [{\"name\": i, \"id\": j} for i,j in zip(df,df.columns)],\n",
        "    data=df.to_dict('records'),\n",
        "    page_size = 10,\n",
        "    sort_action='native'\n",
        ")\n",
        "\n",
        "app.run_server(mode=\"inline\")"
      ],
      "execution_count": 17,
      "outputs": [
        {
          "output_type": "display_data",
          "data": {
            "application/javascript": [
              "(async (port, path, width, height, cache, element) => {\n",
              "    if (!google.colab.kernel.accessAllowed && !cache) {\n",
              "      return;\n",
              "    }\n",
              "    element.appendChild(document.createTextNode(''));\n",
              "    const url = await google.colab.kernel.proxyPort(port, {cache});\n",
              "    const iframe = document.createElement('iframe');\n",
              "    iframe.src = url + path;\n",
              "    iframe.height = height;\n",
              "    iframe.width = width;\n",
              "    iframe.style.border = 0;\n",
              "    element.appendChild(iframe);\n",
              "  })(8050, \"/\", \"100%\", 650, false, window.element)"
            ],
            "text/plain": [
              "<IPython.core.display.Javascript object>"
            ]
          },
          "metadata": {
            "tags": []
          }
        }
      ]
    },
    {
      "cell_type": "markdown",
      "metadata": {
        "id": "knUwexeu09Al"
      },
      "source": [
        "### ツールチップ機能\n",
        "```\n",
        "tooltip_header={i: i for i in [\n",
        "        'CrimeRate',\n",
        "        '25,000 sq ft home emptiness',\n",
        "        'Rate of non-retail consolidated land area',\n",
        "        'Along the Charles River',\n",
        "        'Nitrogen oxide concentration',\n",
        "        'Average number of rooms',\n",
        "        'Rate of drivers consolidated before 1940',\n",
        "        'Weight Distances to Five Boston Employment Facilities',\n",
        "        'Easy to connect to the highway',\n",
        "        '$ 10,000 Real Estate Tax Rate',\n",
        "        'Blade and teacher\\'s thing',\n",
        "        'Black rate',\n",
        "        'Low pool rate',\n",
        "    ]},\n",
        "```"
      ]
    },
    {
      "cell_type": "code",
      "metadata": {
        "colab": {
          "base_uri": "https://localhost:8080/",
          "height": 671
        },
        "id": "cB7m6lS5ypcy",
        "outputId": "9128863c-329c-4ad3-96fc-f1d844ee2f18"
      },
      "source": [
        "app.layout = dash_table.DataTable(\n",
        "    data=df.to_dict('records'),\n",
        "    columns=[{'id': c, 'name': c} for c in df.columns],\n",
        "\n",
        "    tooltip_header={i: j for i,j in zip(df.columns,[\n",
        "        '犯罪発生率',\n",
        "        '25,000平方フィート以上の住宅区画の割合',\n",
        "        '非小売業種の土地面積の割合',\n",
        "        'チャールズ川沿いか否か',\n",
        "        '窒素酸化物の濃度',\n",
        "        '平均部屋数',\n",
        "        '1940年より前に建てられた建物の割合',\n",
        "        '5つのボストンの雇用施設への重み付き距離',\n",
        "        '高速道路へのアクセスのしやすさ',\n",
        "        '10,000ドルあたりの不動産税率',\n",
        "        '生徒と教師の割合',\n",
        "        '黒人の割合',\n",
        "        '低所得者の割合'\n",
        "    ])},\n",
        "\n",
        "    # Style headers with a dotted underline to indicate a tooltip\n",
        "    style_header={\n",
        "        'textDecoration': 'underline',\n",
        "        'textDecorationStyle': 'dotted',\n",
        "    },\n",
        "\n",
        "    # Overflow into ellipsis\n",
        "    style_cell={\n",
        "        'overflow': 'hidden',\n",
        "        'textOverflow': 'ellipsis',\n",
        "        'maxWidth': 0,\n",
        "    },\n",
        "    tooltip_delay=0,\n",
        "    tooltip_duration=None\n",
        ")\n",
        "app.run_server(mode=\"inline\")"
      ],
      "execution_count": 29,
      "outputs": [
        {
          "output_type": "display_data",
          "data": {
            "application/javascript": [
              "(async (port, path, width, height, cache, element) => {\n",
              "    if (!google.colab.kernel.accessAllowed && !cache) {\n",
              "      return;\n",
              "    }\n",
              "    element.appendChild(document.createTextNode(''));\n",
              "    const url = await google.colab.kernel.proxyPort(port, {cache});\n",
              "    const iframe = document.createElement('iframe');\n",
              "    iframe.src = url + path;\n",
              "    iframe.height = height;\n",
              "    iframe.width = width;\n",
              "    iframe.style.border = 0;\n",
              "    element.appendChild(iframe);\n",
              "  })(8050, \"/\", \"100%\", 650, false, window.element)"
            ],
            "text/plain": [
              "<IPython.core.display.Javascript object>"
            ]
          },
          "metadata": {
            "tags": []
          }
        }
      ]
    },
    {
      "cell_type": "markdown",
      "metadata": {
        "id": "_7GyrNHG4RPL"
      },
      "source": [
        "### 編集機能もりもり\n"
      ]
    },
    {
      "cell_type": "code",
      "metadata": {
        "colab": {
          "base_uri": "https://localhost:8080/",
          "height": 134
        },
        "id": "d-y_zXgT4TSW",
        "outputId": "36fbf3a1-fadc-4253-97b8-9bc4bad6ca1e"
      },
      "source": [
        "from collections import OrderedDict\n",
        "\n",
        "df = pd.DataFrame(OrderedDict([\n",
        "    ('climate', ['Sunny', 'Snowy', 'Sunny', 'Rainy']),\n",
        "    ('temperature', [13, 43, 50, 30]),\n",
        "    ('city', ['NYC', 'Montreal', 'Miami', 'NYC'])\n",
        "]))\n",
        "\n",
        "\n",
        "app.layout = html.Div([\n",
        "    dash_table.DataTable(\n",
        "        id='table-dropdown',\n",
        "        data=df.to_dict('records'),\n",
        "        columns=[\n",
        "            {'id': 'climate', 'name': 'climate', 'presentation': 'dropdown'},\n",
        "            {'id': 'temperature', 'name': 'temperature'},\n",
        "            {'id': 'city', 'name': 'city', 'presentation': 'dropdown'},\n",
        "        ],\n",
        "        columns=[\n",
        "            {'name': i, 'id': i, 'deletable': True} for i in df.columns\n",
        "            # omit the id column\n",
        "            if i != 'id'\n",
        "        ],\n",
        "\n",
        "        editable=True,\n",
        "        row_deletable=True,\n",
        "        dropdown={\n",
        "            'climate': {\n",
        "                'options': [\n",
        "                    {'label': i, 'value': i}\n",
        "                    for i in df['climate'].unique()\n",
        "                ]\n",
        "            },\n",
        "            'city': {\n",
        "                 'options': [\n",
        "                    {'label': i, 'value': i}\n",
        "                    for i in df['city'].unique()\n",
        "                ]\n",
        "            }\n",
        "        }\n",
        "    ),\n",
        "    html.Div(id='table-dropdown-container')\n",
        "])"
      ],
      "execution_count": 11,
      "outputs": [
        {
          "output_type": "error",
          "ename": "SyntaxError",
          "evalue": "ignored",
          "traceback": [
            "\u001b[0;36m  File \u001b[0;32m\"<ipython-input-11-660c09d4a76d>\"\u001b[0;36m, line \u001b[0;32m22\u001b[0m\n\u001b[0;31m    data['city'].deletable=True,\u001b[0m\n\u001b[0m    ^\u001b[0m\n\u001b[0;31mSyntaxError\u001b[0m\u001b[0;31m:\u001b[0m keyword can't be an expression\n"
          ]
        }
      ]
    },
    {
      "cell_type": "code",
      "metadata": {
        "colab": {
          "base_uri": "https://localhost:8080/",
          "height": 671
        },
        "id": "fU0LuLMY6TwQ",
        "outputId": "6c0c0840-1978-4ef1-b44d-54ae0f5032af"
      },
      "source": [
        "app.run_server(mode=\"inline\")"
      ],
      "execution_count": 8,
      "outputs": [
        {
          "output_type": "display_data",
          "data": {
            "application/javascript": [
              "(async (port, path, width, height, cache, element) => {\n",
              "    if (!google.colab.kernel.accessAllowed && !cache) {\n",
              "      return;\n",
              "    }\n",
              "    element.appendChild(document.createTextNode(''));\n",
              "    const url = await google.colab.kernel.proxyPort(port, {cache});\n",
              "    const iframe = document.createElement('iframe');\n",
              "    iframe.src = url + path;\n",
              "    iframe.height = height;\n",
              "    iframe.width = width;\n",
              "    iframe.style.border = 0;\n",
              "    element.appendChild(iframe);\n",
              "  })(8050, \"/\", \"100%\", 650, false, window.element)"
            ],
            "text/plain": [
              "<IPython.core.display.Javascript object>"
            ]
          },
          "metadata": {
            "tags": []
          }
        }
      ]
    }
  ]
}