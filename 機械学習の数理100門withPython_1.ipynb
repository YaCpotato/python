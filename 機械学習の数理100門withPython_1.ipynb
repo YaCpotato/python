{
  "nbformat": 4,
  "nbformat_minor": 0,
  "metadata": {
    "colab": {
      "name": "機械学習の数理100門withPython_1.ipynb",
      "provenance": [],
      "authorship_tag": "ABX9TyP4tqMbtLDK4O8BjUBfLbyO",
      "include_colab_link": true
    },
    "kernelspec": {
      "name": "python3",
      "display_name": "Python 3"
    }
  },
  "cells": [
    {
      "cell_type": "markdown",
      "metadata": {
        "id": "view-in-github",
        "colab_type": "text"
      },
      "source": [
        "<a href=\"https://colab.research.google.com/github/YaCpotato/python/blob/master/%E6%A9%9F%E6%A2%B0%E5%AD%A6%E7%BF%92%E3%81%AE%E6%95%B0%E7%90%86100%E9%96%80withPython_1.ipynb\" target=\"_parent\"><img src=\"https://colab.research.google.com/assets/colab-badge.svg\" alt=\"Open In Colab\"/></a>"
      ]
    },
    {
      "cell_type": "markdown",
      "metadata": {
        "id": "_r4fpieWYTUG",
        "colab_type": "text"
      },
      "source": [
        "$x_1, \\ldots ,x_N, y_1, \\ldots, y_N \\in \\mathbb{R}$について、$$ S = \\sum_{i=1}^N (y_i - \\beta_0 - \\beta_1 x_i)^2$$を最小にする$\\beta_0 ,\\beta_1 \\in \\mathbb{R}$を　$\\hat{\\beta_0}, \\hat{\\beta_1}$とおくとき以下の等式を示せ。ただし、$\\bar{x}$および$\\bar{y}$は$$\\frac{1}{N} \\sum_{i=1}^N x_i , \\frac{1}{N} \\sum_{i=1}^N y_i$$で定義されるものとする。  \n",
        "(a) $\\hat{\\beta_0}+\\hat{\\beta_1} \\bar{x} = \\bar{y}$  \n",
        "(b) $x_1, \\ldots ,x_N$がすべて等しくないとき"
      ]
    },
    {
      "cell_type": "markdown",
      "metadata": {
        "id": "xjJAXEl6_q2r",
        "colab_type": "text"
      },
      "source": [
        "\\begin{split}\n",
        "S &= \\sum_{i=1}^N (y_i - \\beta_0 - \\beta_1 x_i)^2 \\\\\n",
        "\\frac{\\partial S}{\\partial\\beta_0} &= \\sum_{i=1}^N 2 (y_i - \\beta_0 - \\beta_1 x_i) \\cdot (y_i - \\beta_0 - \\beta_1 x_i)' \\\\\n",
        "&= \\sum_{i=1}^N 2 (y_i - \\beta_0 - \\beta_1 x_i) \\cdot(-1) \\\\\n",
        "&= \\sum_{i=1}^N -2 (y_i - \\beta_0 - \\beta_1 x_i) \\\\\n",
        "&= -2 \\sum_{i=1}^N (y_i - \\beta_0 - \\beta_1 x_i) \\\\                        \n",
        "\\frac{\\partial S}{\\partial\\beta_1} &= \\sum_{i=1}^N 2 (y_i - \\beta_0 - \\beta_1 x_i) \\cdot (y_i - \\beta_0 - \\beta_1 x_i)' \\\\\n",
        "&= \\sum_{i=1}^N 2 (y_i - \\beta_0 - \\beta_1 x_i) \\cdot(-x_i) \\\\\n",
        "&= \\sum_{i=1}^N -2x_i (y_i - \\beta_0 - \\beta_1 x_i) \\\\\n",
        "&= -2 \\sum_{i=1}^N x_i(y_i - \\beta_0 - \\beta_1 x_i)\\\\                                                    \n",
        "\\frac{\\partial S}{\\partial\\beta_0} = 0より \\\\\n",
        "-2 \\sum_{i=1}^N (y_i - \\beta_0 - \\beta_1 x_i) &= 0 \\\\\n",
        "-2 (\\sum_{i=1}^N y_i - \\sum_{i=1}^N\\beta_0 - \\sum_{i=1}^N\\beta_1 x_i) &= 0 \\\\\n",
        "2\\sum_{i=1}^N\\beta_0 + 2\\sum_{i=1}^N\\beta_1 x_i&= 2\\sum_{i=1}^N y_i \\\\\n",
        "\\frac{1}{N}\\sum_{i=1}^N\\beta_0  + \\beta_1 \\cdot \\frac{1}{N}\\sum_{i=1}^N x_i&= \\frac{1}{N}\\sum_{i=1}^N y_i \\\\\n",
        "\\frac{\\beta_0}{N}+ \\beta_1 \\cdot \\frac{1}{N}\\sum_{i=1}^N x_i&= \\frac{1}{N}\\sum_{i=1}^N y_i \\\\\n",
        "ここで、\n",
        "\\frac{1}{N}\\sum_{i=1}^N x_i = \\bar{x}, \\frac{1}{N}\\sum_{i=1}^N y_i = \\bar{y}である \\\\\n",
        "\\therefore　\\hat{\\beta_0}+\\hat{\\beta_1}\\bar{x} = \\bar{y}\n",
        "\\end{split}"
      ]
    },
    {
      "cell_type": "code",
      "metadata": {
        "id": "24G6uKAgYFCw",
        "colab_type": "code",
        "colab": {}
      },
      "source": [
        "  "
      ],
      "execution_count": 0,
      "outputs": []
    },
    {
      "cell_type": "markdown",
      "metadata": {
        "id": "-JPmySD0Ymzh",
        "colab_type": "text"
      },
      "source": [
        "### 6.1 モジュールについてもう少し"
      ]
    },
    {
      "cell_type": "code",
      "metadata": {
        "id": "m_pJdbvnYrtk",
        "colab_type": "code",
        "colab": {}
      },
      "source": [
        ""
      ],
      "execution_count": 0,
      "outputs": []
    }
  ]
}